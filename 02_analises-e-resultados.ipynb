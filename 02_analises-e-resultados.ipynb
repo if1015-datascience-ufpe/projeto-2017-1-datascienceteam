{
 "cells": [
  {
   "cell_type": "markdown",
   "metadata": {},
   "source": [
    "# Introdução à Ciência dos Dados &mdash; Projeto Final\n",
    "\n",
    "Alunos: Artur Franco (anf), Lucas Glasner (lgr3)"
   ]
  },
  {
   "cell_type": "markdown",
   "metadata": {},
   "source": [
    "## 2 &mdash; Análise exploratória dos dados"
   ]
  },
  {
   "cell_type": "markdown",
   "metadata": {},
   "source": [
    "A análise exploratória dos dados (AED) é um passo importante, como todos os outros, na área de `Data Science`, e pode ser feita utilizando algum tipo de estatística descritiva ou análise de gráficos, com o intuito de se familiarizar com os dados e entender melhor sobre a natureza dos mesmos. Através da AED, nós buscamos confirmar hipóteses, ou seja, obter resposta para algumas perguntas previamente pensadas, como por exemplo: \n",
    "1. É mais provável ocorrerem acidentes de trânsito em bairros de classe mais baixa?\n",
    "* É mais provável ocorrerem acidentes de trânsito no horário da noite?\n",
    "* É mais provável ocorrerem infrações de trânsito no horário da noite?\n",
    "* Para a maioria dos acidentes foi registrada uma infração?\n",
    "* O registro de infrações ajuda a diminuir a quantidade de acidentes?\n",
    "\n",
    "Nós não obtivemos resposta clara para a pergunta 4, uma vez que pela natureza do problema real e do próprio `dataset`, não encontramos uma maneira para tal. Já para as perguntas 1, 2, 3 e 5 obtivemos as respostas que irão ser vistas no decorrer deste `notebook`. Buscamos ainda detectar novas hipóteses, as quais poderão ser vistas também no decorrer deste `notebook`.\n",
    "\n",
    "Para realizar a análise exploratória dos dados foram utilizadas alguns recursos disponíveis para `Python`. Foram  elas: a biblioteca `pandas` (para tratamento e análise de dados) e o pacote `pyplot` da biblioteca `matplotlib` (para visualização de gráficos)."
   ]
  },
  {
   "cell_type": "code",
   "execution_count": 1,
   "metadata": {
    "collapsed": true
   },
   "outputs": [],
   "source": [
    "import pandas as pd\n",
    "import numpy as np\n",
    "import matplotlib.pyplot as plt\n",
    "from IPython.display import display\n",
    "\n",
    "% matplotlib inline"
   ]
  },
  {
   "cell_type": "markdown",
   "metadata": {},
   "source": [
    "### 2.1 &mdash; Análise exploratória dos dados sobre acidentes de trânsito"
   ]
  },
  {
   "cell_type": "code",
   "execution_count": 2,
   "metadata": {},
   "outputs": [
    {
     "name": "stdout",
     "output_type": "stream",
     "text": [
      "-----ACIDENTES DE TRÂNSITO EM RECIFE/2016-----\n"
     ]
    },
    {
     "data": {
      "text/html": [
       "<div>\n",
       "<table border=\"1\" class=\"dataframe\">\n",
       "  <thead>\n",
       "    <tr style=\"text-align: right;\">\n",
       "      <th></th>\n",
       "      <th>data</th>\n",
       "      <th>hora</th>\n",
       "      <th>endereco</th>\n",
       "      <th>bairro</th>\n",
       "      <th>natureza</th>\n",
       "      <th>tipo</th>\n",
       "    </tr>\n",
       "  </thead>\n",
       "  <tbody>\n",
       "    <tr>\n",
       "      <th>0</th>\n",
       "      <td>2016-01-01</td>\n",
       "      <td>00:58</td>\n",
       "      <td>Av Jornalista Possidonio Cavalcanti Bastos</td>\n",
       "      <td>Iputinga</td>\n",
       "      <td>COLISÃO</td>\n",
       "      <td>SEM VÍTIMA</td>\n",
       "    </tr>\n",
       "    <tr>\n",
       "      <th>1</th>\n",
       "      <td>2016-01-01</td>\n",
       "      <td>01:23</td>\n",
       "      <td>Av Engenheiro Domingos Ferreira</td>\n",
       "      <td>Boa Viagem</td>\n",
       "      <td>COLISÃO</td>\n",
       "      <td>SEM VÍTIMA</td>\n",
       "    </tr>\n",
       "    <tr>\n",
       "      <th>2</th>\n",
       "      <td>2016-01-01</td>\n",
       "      <td>01:42</td>\n",
       "      <td>Rua Dr Alvaro Ferraz</td>\n",
       "      <td>Jordão</td>\n",
       "      <td>COLISÃO</td>\n",
       "      <td>SEM VÍTIMA</td>\n",
       "    </tr>\n",
       "    <tr>\n",
       "      <th>3</th>\n",
       "      <td>2016-01-01</td>\n",
       "      <td>03:08</td>\n",
       "      <td>Av Jornalista Costa Porto</td>\n",
       "      <td>Ibura</td>\n",
       "      <td>COLISÃO</td>\n",
       "      <td>SEM VÍTIMA</td>\n",
       "    </tr>\n",
       "    <tr>\n",
       "      <th>4</th>\n",
       "      <td>2016-01-01</td>\n",
       "      <td>05:34</td>\n",
       "      <td>Av Governador Agamenon Magalhaes</td>\n",
       "      <td>Paissandu</td>\n",
       "      <td>CHOQUE</td>\n",
       "      <td>COM VÍTIMA</td>\n",
       "    </tr>\n",
       "  </tbody>\n",
       "</table>\n",
       "</div>"
      ],
      "text/plain": [
       "         data   hora                                    endereco      bairro  \\\n",
       "0  2016-01-01  00:58  Av Jornalista Possidonio Cavalcanti Bastos    Iputinga   \n",
       "1  2016-01-01  01:23             Av Engenheiro Domingos Ferreira  Boa Viagem   \n",
       "2  2016-01-01  01:42                        Rua Dr Alvaro Ferraz      Jordão   \n",
       "3  2016-01-01  03:08                   Av Jornalista Costa Porto       Ibura   \n",
       "4  2016-01-01  05:34            Av Governador Agamenon Magalhaes   Paissandu   \n",
       "\n",
       "  natureza        tipo  \n",
       "0  COLISÃO  SEM VÍTIMA  \n",
       "1  COLISÃO  SEM VÍTIMA  \n",
       "2  COLISÃO  SEM VÍTIMA  \n",
       "3  COLISÃO  SEM VÍTIMA  \n",
       "4   CHOQUE  COM VÍTIMA  "
      ]
     },
     "metadata": {},
     "output_type": "display_data"
    },
    {
     "name": "stdout",
     "output_type": "stream",
     "text": [
      " \n",
      "-----ACIDENTES DE TRÂNSITO EM RECIFE/2015-----\n"
     ]
    },
    {
     "data": {
      "text/html": [
       "<div>\n",
       "<table border=\"1\" class=\"dataframe\">\n",
       "  <thead>\n",
       "    <tr style=\"text-align: right;\">\n",
       "      <th></th>\n",
       "      <th>data</th>\n",
       "      <th>hora</th>\n",
       "      <th>endereco</th>\n",
       "      <th>bairro</th>\n",
       "      <th>natureza</th>\n",
       "      <th>tipo</th>\n",
       "    </tr>\n",
       "  </thead>\n",
       "  <tbody>\n",
       "    <tr>\n",
       "      <th>0</th>\n",
       "      <td>2015-12-03</td>\n",
       "      <td>11:36</td>\n",
       "      <td>Av Norte</td>\n",
       "      <td>Casa Amarela</td>\n",
       "      <td>COLISÃO</td>\n",
       "      <td>SEM VÍTIMA</td>\n",
       "    </tr>\n",
       "    <tr>\n",
       "      <th>1</th>\n",
       "      <td>2015-06-01</td>\n",
       "      <td>06:35</td>\n",
       "      <td>Est De Belem</td>\n",
       "      <td>Encruzilhada</td>\n",
       "      <td>COLISÃO</td>\n",
       "      <td>SEM VÍTIMA</td>\n",
       "    </tr>\n",
       "    <tr>\n",
       "      <th>2</th>\n",
       "      <td>2015-06-01</td>\n",
       "      <td>08:04</td>\n",
       "      <td>Rua Ernesto De Paula Santos</td>\n",
       "      <td>Boa Viagem</td>\n",
       "      <td>COLISÃO</td>\n",
       "      <td>SEM VÍTIMA</td>\n",
       "    </tr>\n",
       "    <tr>\n",
       "      <th>3</th>\n",
       "      <td>2015-06-01</td>\n",
       "      <td>08:06</td>\n",
       "      <td>Av Sul</td>\n",
       "      <td>Afogados</td>\n",
       "      <td>COLISÃO</td>\n",
       "      <td>SEM VÍTIMA</td>\n",
       "    </tr>\n",
       "    <tr>\n",
       "      <th>4</th>\n",
       "      <td>2015-06-01</td>\n",
       "      <td>08:13</td>\n",
       "      <td>Rua Benfica</td>\n",
       "      <td>Madalena</td>\n",
       "      <td>COLISÃO</td>\n",
       "      <td>SEM VÍTIMA</td>\n",
       "    </tr>\n",
       "  </tbody>\n",
       "</table>\n",
       "</div>"
      ],
      "text/plain": [
       "         data   hora                     endereco        bairro natureza  \\\n",
       "0  2015-12-03  11:36                     Av Norte  Casa Amarela  COLISÃO   \n",
       "1  2015-06-01  06:35                 Est De Belem  Encruzilhada  COLISÃO   \n",
       "2  2015-06-01  08:04  Rua Ernesto De Paula Santos    Boa Viagem  COLISÃO   \n",
       "3  2015-06-01  08:06                       Av Sul      Afogados  COLISÃO   \n",
       "4  2015-06-01  08:13                  Rua Benfica      Madalena  COLISÃO   \n",
       "\n",
       "         tipo  \n",
       "0  SEM VÍTIMA  \n",
       "1  SEM VÍTIMA  \n",
       "2  SEM VÍTIMA  \n",
       "3  SEM VÍTIMA  \n",
       "4  SEM VÍTIMA  "
      ]
     },
     "metadata": {},
     "output_type": "display_data"
    }
   ],
   "source": [
    "# Lendo datasets tratados\n",
    "acidentes2016 = pd.read_csv('treated-datasets/acidentes-2016.csv', sep=',', index_col=0)\n",
    "acidentes2015 = pd.read_csv('treated-datasets/acidentes-2015.csv', sep=',', index_col=0)\n",
    "\n",
    "print('-----ACIDENTES DE TRÂNSITO EM RECIFE/2016-----')\n",
    "display(acidentes2016.head())\n",
    "print(' ')\n",
    "print('-----ACIDENTES DE TRÂNSITO EM RECIFE/2015-----')\n",
    "display(acidentes2015.head())"
   ]
  },
  {
   "cell_type": "markdown",
   "metadata": {},
   "source": [
    "Analisando os conjuntos de dados sobre acidentes, percebemos que para o ano de 2016 só há dados de 10 meses (Janeiro à Outubro) e para o ano de 2015 só há dados de 7 meses (Junho à Dezembro). Para fazer uma estimativa da quantidade total de acidentes nos anos de 2015 e 2016, completamos os meses inexistentes nos `datasets` com a média da quantidade de acidentes em cada ano, calculada apenas para os meses existentes nos `datasets`. Veremos uma explicação mais detalhada:  \n",
    "\n",
    "- No ano de 2015 ocorreram 7169 acidentes em 7 meses (Junho à Dezembro), com média de cerca de 1024 acidentes por mês. Nós supusemos então que a quantidade de acidentes em cada mês restante (Janeiro, Fevereiro, Março, Abril e Maio) foi 1024, então uma boa estimativa para a quantidade total de acidentes em 2015 (agora considerando os 12 meses do ano) seria $7169 + 1024*5$ (5 é a quantidade de meses restantes), que é o equivalente a 12889 acidentes. Nós armazenamos esse valor na variável `totalAcidentes2015`.\n",
    "- No ano de 2016 ocorreram 9130 acidentes em 10 meses (Janeiro à Outubro), com média de 913 acidentes por mês. Nós supusemos então que a quantidade de acidentes em cada mês restante (Novembro e Dezembro) foi 913, então uma boa estimativa para a quantidade total de acidentes em 2016 (agora considerando os 12 meses do ano) seria $9130 + 913*2$ (2 é a quantidade de meses restantes), que é o equivalente a 10956 acidentes. Nós armazenamos esse valor na variável `totalAcidentes2016`."
   ]
  },
  {
   "cell_type": "code",
   "execution_count": 3,
   "metadata": {},
   "outputs": [
    {
     "name": "stdout",
     "output_type": "stream",
     "text": [
      "De acordo com os dados...\n",
      "7169 acidentes de trânsito foram registrados na cidade do Recife em 2015 (Entre Junho e Dezembro)\n",
      "9130 acidentes de trânsito foram registrados na cidade do Recife em 2016 (Entre Janeiro e Outubro)\n",
      " \n",
      "Considerando os 12 meses do ano...\n",
      "Estimativa: 12889 acidentes de trânsito ocorreram na cidade do Recife em 2015\n",
      "Estimativa: 10956 acidentes de trânsito ocorreram na cidade do Recife em 2016\n",
      " \n",
      "Decaimento de cerca de 15.0% no número de acidentes de trânsito em Recife\n"
     ]
    }
   ],
   "source": [
    "# Quantidade de acidentes de trânsito registrados em 2015 e 1026\n",
    "print('De acordo com os dados...')\n",
    "print('{} acidentes de trânsito foram registrados na cidade do Recife em 2015 (Entre Junho e Dezembro)'.format(acidentes2015.shape[0]))\n",
    "print('{} acidentes de trânsito foram registrados na cidade do Recife em 2016 (Entre Janeiro e Outubro)'.format(acidentes2016.shape[0]))\n",
    "\n",
    "print(' ')\n",
    "\n",
    "# Considerando os 12 meses do ano\n",
    "totalAcidentes2015 = 12889\n",
    "totalAcidentes2016 = 10956\n",
    "\n",
    "# Melhorando estimativa da quantidade de acidentes de trânsito registrados em 2015 e 1026\n",
    "print('Considerando os 12 meses do ano...')\n",
    "print('Estimativa: {} acidentes de trânsito ocorreram na cidade do Recife em 2015'.format(totalAcidentes2015))\n",
    "print('Estimativa: {} acidentes de trânsito ocorreram na cidade do Recife em 2016'.format(totalAcidentes2016))\n",
    "\n",
    "print(' ')\n",
    "\n",
    "crescimento = totalAcidentes2016 - totalAcidentes2015\n",
    "porcentagem_crescimento = round((crescimento*100)/totalAcidentes2015,2)\n",
    "print('Decaimento de cerca de {}% no número de acidentes de trânsito em Recife'.format(abs(porcentagem_crescimento)))"
   ]
  },
  {
   "cell_type": "markdown",
   "metadata": {},
   "source": [
    "Surpreendentemente, na análise acima não houve um crescimento no número de acidentes registrados no Recife, entre 2015 e 2016."
   ]
  },
  {
   "cell_type": "markdown",
   "metadata": {},
   "source": [
    "Diante de toda a questão explicada anteriormente, de não haver dados para todos os meses dos anos de 2015 e 2016, fizemos o seguinte: Juntamos os dois `datasets` (`acidentes2015` e `acidentes2016`) em um só `dataset`, como pode ser visto na célula abaixo. Fizemos isso pois temos agora um intervalo maior de tempo e uma quantidade maior de dados, isto é, podemos agora analisar conjuntamente dados de acidentes desde Junho de 2015 até Outubro de 2016, nos dando um intervalo de 17 meses, o que pode ser melhor aproveitado do que se fôssemos analisar separadamente o dados de acidentes de 2015 (7 meses) e de 2016 (10 meses), pois do segundo modo, inviabilizaria até algum tipo de comparação entre os dados, já que não teríamos um padrão."
   ]
  },
  {
   "cell_type": "markdown",
   "metadata": {},
   "source": [
    "Então, vamos descobrir abaixo quais são os 10 bairros do Recife onde mais ocorreram acidentes de trânsito, entre Junho de 2015 e Outubro de 2016."
   ]
  },
  {
   "cell_type": "code",
   "execution_count": 4,
   "metadata": {},
   "outputs": [
    {
     "name": "stdout",
     "output_type": "stream",
     "text": [
      "---BAIRRO ONDE OCORRERAM MAIS ACIDENTES (Jun/15 ~ Out/16)---\n",
      "=> Boa Viagem - 2240 (ou 13.74% dos) acidentes\n",
      " \n"
     ]
    },
    {
     "data": {
      "image/png": "[encoded data removed]",
      "text/plain": [
       "<matplotlib.figure.Figure at 0x7f9e57dfb208>"
      ]
     },
     "metadata": {},
     "output_type": "display_data"
    }
   ],
   "source": [
    "# Concatenando dataframes\n",
    "acidentesTotal = pd.concat([acidentes2016, acidentes2015], axis=0)\n",
    "\n",
    "# PLOT\n",
    "top10_bairros = acidentesTotal.groupby('bairro').size().sort_values(ascending=False)[:10]\n",
    "top10_bairros.plot.barh(title='OS 10 BAIRROS DO RECIFE ONDE OCORRERAM MAIS ACIDENTES DE TRÂNSITO (Jun/15 ~ Out/16)',\n",
    "                        grid=True, figsize=(12,7))\n",
    "\n",
    "# Cálculo de MODA\n",
    "# Bairro onde mais ocorreu acidentes dentro dos 17 meses (Jun/2015 a Out/2016)\n",
    "bairro_moda = acidentesTotal.bairro.mode()[0]\n",
    "qtd_bairro = acidentesTotal.groupby('bairro').size().sort_values(ascending=False)[0]\n",
    "\n",
    "# Calculando porcentagem\n",
    "pct_bairro = round(qtd_bairro*100.0/acidentesTotal.shape[0], 2)\n",
    "\n",
    "print('---BAIRRO ONDE OCORRERAM MAIS ACIDENTES (Jun/15 ~ Out/16)---')\n",
    "print('=> {} - {} (ou {}% dos) acidentes'.format(bairro_moda, qtd_bairro, pct_bairro))\n",
    "print(' ')"
   ]
  },
  {
   "cell_type": "markdown",
   "metadata": {},
   "source": [
    "#### Respondendo a pergunta 1\n",
    "\n",
    "É mais provável ocorrerem acidentes de trânsito em bairros de classe mais baixa?\n",
    "\n",
    "Não necessariamente. Na análise acima pudemos descobrir que o bairro onde ocorrem mais acidentes de trânsito é Boa Viagem, que é um bairro de classe média-alta. Isso se deve também à Boa Viagem ser disparado o bairro do Recife com maior número de habitantes, além de possuir três Avenidas longas e movimentadas (Av. Engenheiro Domingos Ferreira, Av. Conselheiro Aguiar e Av. Boa Viagem)."
   ]
  },
  {
   "cell_type": "markdown",
   "metadata": {},
   "source": [
    "Da mesma forma, veremos quais são os 10 logradouros do Recife onde mais ocorreram acidentes de trânsito, entre Junho de 2015 e Outubro de 2016."
   ]
  },
  {
   "cell_type": "code",
   "execution_count": 5,
   "metadata": {},
   "outputs": [
    {
     "name": "stdout",
     "output_type": "stream",
     "text": [
      "---LOGRADOURO ONDE MAIS OCORRERAM ACIDENTES (Jun/2015 ~ Out/2016)---\n",
      "=> Av Marechal Mascarenhas De Moraes - 711 (ou 4.36% dos) acidentes\n"
     ]
    },
    {
     "data": {
      "image/png": "[encoded data removed]",
      "text/plain": [
       "<matplotlib.figure.Figure at 0x7f9e57dfbba8>"
      ]
     },
     "metadata": {},
     "output_type": "display_data"
    }
   ],
   "source": [
    "# PLOT\n",
    "top10_enderecos = acidentesTotal.groupby('endereco').size().sort_values(ascending=False)[:10]\n",
    "top10_enderecos.plot.barh(title='OS 10 LOGRADOUROS DO RECIFE ONDE OCORRERAM MAIS ACIDENTES DE TRÂNSITO (Jun/15 ~ Out/16)',\n",
    "                        grid=True, figsize=(12,6))\n",
    "\n",
    "# Cálculo de MODA\n",
    "# Logradouro onde mais ocorreu acidentes dentro dos 17 meses (Jun/2015 a Out/2016)\n",
    "endereco_moda = acidentesTotal.endereco.mode()[0]\n",
    "qtd_endereco = acidentesTotal.groupby('endereco').size().sort_values(ascending=False)[0]\n",
    "\n",
    "# Calculando porcentagem\n",
    "pct_endereco = round(qtd_endereco*100.0/acidentesTotal.shape[0], 2)\n",
    "\n",
    "print('---LOGRADOURO ONDE MAIS OCORRERAM ACIDENTES (Jun/2015 ~ Out/2016)---')\n",
    "print('=> {} - {} (ou {}% dos) acidentes'.format(endereco_moda, qtd_endereco, pct_endereco))"
   ]
  },
  {
   "cell_type": "markdown",
   "metadata": {},
   "source": [
    "Apesar de Boa Viagem ser o bairro do Recife onde mais ocorreram acidentes entre Junho de 2015 e Outubro de 2016, os logradouros onde mais ocorreram acidentes nesse mesmo tempo não ficam em Boa Viagem. Na verdade são duas Avenidas as quais concentram um grande fluxo de carros na maior parte do dia, visto que são Avenidas que ligam e passam por partes importantes da cidade do Recife. No ranking visto no gráfico, dos logradouros que ficam em Boa Viagem vemos a Avenida Engenheiro Domingos Ferreira na 7ª colocação e a Avenida Conselheiro Aguiar apenas na 10ª colocação."
   ]
  },
  {
   "cell_type": "code",
   "execution_count": 6,
   "metadata": {
    "collapsed": true
   },
   "outputs": [],
   "source": [
    "### FUNÇÕES AUXILIARES ###\n",
    "\n",
    "# Input -> hora no padrão hh:mm \n",
    "# Return -> range ou intervalo na forma [hh, hh+1) no qual a hora de entrada está\n",
    "def criaRangeHora(hora):\n",
    "    h = hora[:2]\n",
    "    if h[0] == '0':\n",
    "        if h[1] == '9':\n",
    "            return '[' + h + 'h, ' + str(int(h[:2])+1) + 'h)'\n",
    "        else:\n",
    "            return '[' + h + 'h, 0' + str(int(h[:2])+1) + 'h)'\n",
    "    elif h[0] == '2':\n",
    "        if h[1] == '3':\n",
    "            return '[' + h + 'h, 00h)'\n",
    "        else:\n",
    "            return '[' + h + 'h, ' + str(int(h[:2])+1) + 'h)'\n",
    "    else:\n",
    "        return '[' + h + 'h, ' + str(int(h[:2])+1) + 'h)'\n",
    "\n",
    "# Input -> hora no padrão hh:mm\n",
    "# Return -> período do dia relativo à hora de entrada (manhã, tarde, noite, madrugada)\n",
    "def periodoDoDia(hora):\n",
    "    h = hora[:2]\n",
    "    manha = ['06','07','08','09','10','11']\n",
    "    tarde = ['12','13','14','15','16','17']\n",
    "    noite = ['18','19','20','21','22','23']\n",
    "    \n",
    "    if h in manha:\n",
    "        return 'manhã'\n",
    "    elif h in tarde:\n",
    "        return 'tarde'\n",
    "    elif h in noite:\n",
    "        return 'noite'\n",
    "    else:\n",
    "        return 'madrugada'\n",
    "\n",
    "# Input -> data no padrão yy-mm-dd\n",
    "# Return -> string referente ao mês da data de entrada\n",
    "def retornaMes(data):\n",
    "    mes = data.split('-')[1]\n",
    "    \n",
    "    if mes == '01':\n",
    "        return 'Jan'\n",
    "    elif mes == '02':\n",
    "        return 'Fev'\n",
    "    elif mes == '03':\n",
    "        return 'Mar'\n",
    "    elif mes == '04':\n",
    "        return 'Abr'\n",
    "    elif mes == '05':\n",
    "        return 'Mai'\n",
    "    elif mes == '06':\n",
    "        return 'Jun'\n",
    "    elif mes == '07':\n",
    "        return 'Jul'\n",
    "    elif mes == '08':\n",
    "        return 'Ago'\n",
    "    elif mes == '09':\n",
    "        return 'Set'\n",
    "    elif mes == '10':\n",
    "        return 'Out'\n",
    "    elif mes == '11':\n",
    "        return 'Nov'\n",
    "    else:\n",
    "        return 'Dez'"
   ]
  },
  {
   "cell_type": "markdown",
   "metadata": {},
   "source": [
    "Abaixo nós criamos algumas colunas extras nos `datasets` usando as funções auxiliares implementadas anteriormente. O objetivo disto é apenas facilitar na hora de visualizar os dados."
   ]
  },
  {
   "cell_type": "code",
   "execution_count": 7,
   "metadata": {},
   "outputs": [
    {
     "data": {
      "text/html": [
       "<div>\n",
       "<table border=\"1\" class=\"dataframe\">\n",
       "  <thead>\n",
       "    <tr style=\"text-align: right;\">\n",
       "      <th></th>\n",
       "      <th>data</th>\n",
       "      <th>hora</th>\n",
       "      <th>endereco</th>\n",
       "      <th>bairro</th>\n",
       "      <th>natureza</th>\n",
       "      <th>tipo</th>\n",
       "      <th>range_hora</th>\n",
       "      <th>periodo_dia</th>\n",
       "      <th>mes</th>\n",
       "    </tr>\n",
       "  </thead>\n",
       "  <tbody>\n",
       "    <tr>\n",
       "      <th>0</th>\n",
       "      <td>2016-01-01</td>\n",
       "      <td>00:58</td>\n",
       "      <td>Av Jornalista Possidonio Cavalcanti Bastos</td>\n",
       "      <td>Iputinga</td>\n",
       "      <td>COLISÃO</td>\n",
       "      <td>SEM VÍTIMA</td>\n",
       "      <td>[00h, 01h)</td>\n",
       "      <td>madrugada</td>\n",
       "      <td>Jan</td>\n",
       "    </tr>\n",
       "    <tr>\n",
       "      <th>1</th>\n",
       "      <td>2016-01-01</td>\n",
       "      <td>01:23</td>\n",
       "      <td>Av Engenheiro Domingos Ferreira</td>\n",
       "      <td>Boa Viagem</td>\n",
       "      <td>COLISÃO</td>\n",
       "      <td>SEM VÍTIMA</td>\n",
       "      <td>[01h, 02h)</td>\n",
       "      <td>madrugada</td>\n",
       "      <td>Jan</td>\n",
       "    </tr>\n",
       "    <tr>\n",
       "      <th>2</th>\n",
       "      <td>2016-01-01</td>\n",
       "      <td>01:42</td>\n",
       "      <td>Rua Dr Alvaro Ferraz</td>\n",
       "      <td>Jordão</td>\n",
       "      <td>COLISÃO</td>\n",
       "      <td>SEM VÍTIMA</td>\n",
       "      <td>[01h, 02h)</td>\n",
       "      <td>madrugada</td>\n",
       "      <td>Jan</td>\n",
       "    </tr>\n",
       "    <tr>\n",
       "      <th>3</th>\n",
       "      <td>2016-01-01</td>\n",
       "      <td>03:08</td>\n",
       "      <td>Av Jornalista Costa Porto</td>\n",
       "      <td>Ibura</td>\n",
       "      <td>COLISÃO</td>\n",
       "      <td>SEM VÍTIMA</td>\n",
       "      <td>[03h, 04h)</td>\n",
       "      <td>madrugada</td>\n",
       "      <td>Jan</td>\n",
       "    </tr>\n",
       "    <tr>\n",
       "      <th>4</th>\n",
       "      <td>2016-01-01</td>\n",
       "      <td>05:34</td>\n",
       "      <td>Av Governador Agamenon Magalhaes</td>\n",
       "      <td>Paissandu</td>\n",
       "      <td>CHOQUE</td>\n",
       "      <td>COM VÍTIMA</td>\n",
       "      <td>[05h, 06h)</td>\n",
       "      <td>madrugada</td>\n",
       "      <td>Jan</td>\n",
       "    </tr>\n",
       "  </tbody>\n",
       "</table>\n",
       "</div>"
      ],
      "text/plain": [
       "         data   hora                                    endereco      bairro  \\\n",
       "0  2016-01-01  00:58  Av Jornalista Possidonio Cavalcanti Bastos    Iputinga   \n",
       "1  2016-01-01  01:23             Av Engenheiro Domingos Ferreira  Boa Viagem   \n",
       "2  2016-01-01  01:42                        Rua Dr Alvaro Ferraz      Jordão   \n",
       "3  2016-01-01  03:08                   Av Jornalista Costa Porto       Ibura   \n",
       "4  2016-01-01  05:34            Av Governador Agamenon Magalhaes   Paissandu   \n",
       "\n",
       "  natureza        tipo  range_hora periodo_dia  mes  \n",
       "0  COLISÃO  SEM VÍTIMA  [00h, 01h)   madrugada  Jan  \n",
       "1  COLISÃO  SEM VÍTIMA  [01h, 02h)   madrugada  Jan  \n",
       "2  COLISÃO  SEM VÍTIMA  [01h, 02h)   madrugada  Jan  \n",
       "3  COLISÃO  SEM VÍTIMA  [03h, 04h)   madrugada  Jan  \n",
       "4   CHOQUE  COM VÍTIMA  [05h, 06h)   madrugada  Jan  "
      ]
     },
     "execution_count": 7,
     "metadata": {},
     "output_type": "execute_result"
    }
   ],
   "source": [
    "# Criando colunas extras\n",
    "acidentes2016['range_hora'] = acidentes2016['hora'].apply(lambda x: criaRangeHora(x))\n",
    "acidentes2016['periodo_dia'] = acidentes2016['hora'].apply(lambda x: periodoDoDia(x))\n",
    "acidentes2016['mes'] = acidentes2016['data'].apply(lambda x: retornaMes(x))\n",
    "\n",
    "acidentes2015['range_hora'] = acidentes2015['hora'].apply(lambda x: criaRangeHora(x))\n",
    "acidentes2015['periodo_dia'] = acidentes2015['hora'].apply(lambda x: periodoDoDia(x))\n",
    "acidentes2015['mes'] = acidentes2015['data'].apply(lambda x: retornaMes(x))\n",
    "\n",
    "acidentesTotal['range_hora'] = acidentesTotal['hora'].apply(lambda x: criaRangeHora(x))\n",
    "acidentesTotal['periodo_dia'] = acidentesTotal['hora'].apply(lambda x: periodoDoDia(x))\n",
    "\n",
    "acidentes2016.head()"
   ]
  },
  {
   "cell_type": "markdown",
   "metadata": {},
   "source": [
    "Mais abaixo podemos ver gráficos mostrando a quantidade de acidentes por mês em 2016 (primeiro gráfico), por horas do dia (segundo gráfico) e por período do dia (terceiro gráfico). O segundo e terceiro gráfico para o intervalo de tempo entre Junho de 2015 e Outubro de 2016. "
   ]
  },
  {
   "cell_type": "code",
   "execution_count": 8,
   "metadata": {},
   "outputs": [
    {
     "data": {
      "text/plain": [
       "<matplotlib.axes._subplots.AxesSubplot at 0x7f9e57b5deb8>"
      ]
     },
     "execution_count": 8,
     "metadata": {},
     "output_type": "execute_result"
    },
    {
     "data": {
      "image/png": "[encoded data removed]",
      "text/plain": [
       "<matplotlib.figure.Figure at 0x7f9e57d56828>"
      ]
     },
     "metadata": {},
     "output_type": "display_data"
    }
   ],
   "source": [
    "# Ordem dos valores no eixo x dos gráficos\n",
    "meses = ['Jan','Fev','Mar','Abr','Mai','Jun','Jul','Ago','Set','Out']\n",
    "periodos = ['madrugada','manhã','tarde','noite']\n",
    "horas = ['[00h, 01h)','[01h, 02h)','[02h, 03h)','[03h, 04h)','[04h, 05h)','[05h, 06h)','[06h, 07h)','[07h, 08h)',\n",
    "        '[08h, 09h)','[09h, 10h)','[10h, 11h)','[11h, 12h)','[12h, 13h)','[13h, 14h)','[14h, 15h)','[15h, 16h)',\n",
    "        '[16h, 17h)','[17h, 18h)','[18h, 19h)','[19h, 20h)','[20h, 21h)','[21h, 22h)','[22h, 23h)','[23h, 00h)']\n",
    "\n",
    "# PLOTS\n",
    "fig, ax = plt.subplots(ncols=3,figsize=(20,5))\n",
    "\n",
    "# Para 2016\n",
    "acidentesXmes2016 = acidentes2016.groupby('mes').size()\n",
    "acidentesXmes2016 = acidentesXmes2016.reindex(meses)\n",
    "acidentesXmes2016.plot.bar(title='QUANTIDADE DE ACIDENTES x MÊS (2016)', grid=True, ax=ax[0])\n",
    "\n",
    "# Para Jun/2015 a Out/2016\n",
    "acidentesXhoras = acidentesTotal.groupby('range_hora').size()\n",
    "acidentesXhoras = acidentesXhoras.reindex(horas)\n",
    "acidentesXhoras.plot.bar(title='QTD DE ACIDENTES x HORAS DO DIA (Jun/15 ~ Out/16)', grid=True, ax=ax[1])\n",
    "\n",
    "# Para Jun/2015 a Out/2016\n",
    "acidentesXperiodo = acidentesTotal.groupby('periodo_dia').size()\n",
    "acidentesXperiodo = acidentesXperiodo.reindex(periodos)\n",
    "acidentesXperiodo.plot.bar(title='QTD DE ACIDENTES x PERÍODO DO DIA (Jun/15 ~ Out/16)', grid=True, ax=ax[2])"
   ]
  },
  {
   "cell_type": "markdown",
   "metadata": {},
   "source": [
    "#### Respondendo a pergunta 2\n",
    "\n",
    "É mais provável ocorrerem acidentes de trânsito no horário da noite?\n",
    "\n",
    "Não. Podemos observar no terceiro gráfico que a quantidade maior de acidentes ocorreram na parte da tarde, seguido pela parte da manhã, com uma certa superioridade com relação a quantidade de acidentes que ocorreram na parte da noite. No segundo gráfico podemos analisar a informação do terceiro gráfico com mais detalhes. Nota-se que a concentração maior de acidentes se dá no intervalo entre 7h e 20h, com picos nos seguintes intervalos:\n",
    "\n",
    "- Entre 8h e 9h: acreditamos que isso se deve ao fato de que este é o horário onde a maioria das pessoas saem para trabalhar, o comércio começa a funcionar, entre outras coisas. Logo, há um grande aumento no fluxo de carros durante esse horário. \n",
    "- Entre 12h e 13h: acreditamos que isso se deve ao fato de que este é o horário onde grande parte das pessoas está no intervalo de almoço e é o horário no qual grande parte dos pais estão buscando seus filhos no colégio. Apenas esses dois fatos contribuem e muito para o aumento do fluxo de carros nas ruas durante esse horário."
   ]
  },
  {
   "cell_type": "markdown",
   "metadata": {},
   "source": [
    "OBS: Não conseguimos concluir nada olhando para o primeiro gráfico, visto que de um mês para outro é pouca a diferença da quantidade de acidentes."
   ]
  },
  {
   "cell_type": "markdown",
   "metadata": {},
   "source": [
    "### 2.2 &mdash; Análise exploratória dos dados sobre registros de infrações de trânsito"
   ]
  },
  {
   "cell_type": "code",
   "execution_count": 9,
   "metadata": {},
   "outputs": [
    {
     "name": "stdout",
     "output_type": "stream",
     "text": [
      "---REGISTROS DE INFRAÇÕES DE TRÂNSITO EM RECIFE/2016---\n"
     ]
    },
    {
     "data": {
      "text/html": [
       "<div>\n",
       "<table border=\"1\" class=\"dataframe\">\n",
       "  <thead>\n",
       "    <tr style=\"text-align: right;\">\n",
       "      <th></th>\n",
       "      <th>data_infracao</th>\n",
       "      <th>hora_infracao</th>\n",
       "      <th>data_implantacao</th>\n",
       "      <th>agente_equipamento</th>\n",
       "    </tr>\n",
       "  </thead>\n",
       "  <tbody>\n",
       "    <tr>\n",
       "      <th>0</th>\n",
       "      <td>2015-12-30</td>\n",
       "      <td>11:10</td>\n",
       "      <td>2016-01-04</td>\n",
       "      <td>Código 6 - AUTOS NO TALÃO MANUAL</td>\n",
       "    </tr>\n",
       "    <tr>\n",
       "      <th>1</th>\n",
       "      <td>2015-12-20</td>\n",
       "      <td>08:20</td>\n",
       "      <td>2016-01-04</td>\n",
       "      <td>Código 6 - AUTOS NO TALÃO MANUAL</td>\n",
       "    </tr>\n",
       "    <tr>\n",
       "      <th>2</th>\n",
       "      <td>2015-12-24</td>\n",
       "      <td>20:15</td>\n",
       "      <td>2016-01-04</td>\n",
       "      <td>Código 6 - AUTOS NO TALÃO MANUAL</td>\n",
       "    </tr>\n",
       "    <tr>\n",
       "      <th>3</th>\n",
       "      <td>2015-12-28</td>\n",
       "      <td>13:50</td>\n",
       "      <td>2016-01-04</td>\n",
       "      <td>Código 6 - AUTOS NO TALÃO MANUAL</td>\n",
       "    </tr>\n",
       "    <tr>\n",
       "      <th>4</th>\n",
       "      <td>2015-12-28</td>\n",
       "      <td>13:55</td>\n",
       "      <td>2016-01-04</td>\n",
       "      <td>Código 6 - AUTOS NO TALÃO MANUAL</td>\n",
       "    </tr>\n",
       "  </tbody>\n",
       "</table>\n",
       "</div>"
      ],
      "text/plain": [
       "  data_infracao hora_infracao data_implantacao  \\\n",
       "0    2015-12-30         11:10       2016-01-04   \n",
       "1    2015-12-20         08:20       2016-01-04   \n",
       "2    2015-12-24         20:15       2016-01-04   \n",
       "3    2015-12-28         13:50       2016-01-04   \n",
       "4    2015-12-28         13:55       2016-01-04   \n",
       "\n",
       "                 agente_equipamento  \n",
       "0  Código 6 - AUTOS NO TALÃO MANUAL  \n",
       "1  Código 6 - AUTOS NO TALÃO MANUAL  \n",
       "2  Código 6 - AUTOS NO TALÃO MANUAL  \n",
       "3  Código 6 - AUTOS NO TALÃO MANUAL  \n",
       "4  Código 6 - AUTOS NO TALÃO MANUAL  "
      ]
     },
     "metadata": {},
     "output_type": "display_data"
    },
    {
     "name": "stdout",
     "output_type": "stream",
     "text": [
      " \n",
      "---REGISTROS DE INFRAÇÕES DE TRÂNSITO EM RECIFE/2015---\n"
     ]
    },
    {
     "data": {
      "text/html": [
       "<div>\n",
       "<table border=\"1\" class=\"dataframe\">\n",
       "  <thead>\n",
       "    <tr style=\"text-align: right;\">\n",
       "      <th></th>\n",
       "      <th>data_infracao</th>\n",
       "      <th>hora_infracao</th>\n",
       "      <th>data_implantacao</th>\n",
       "      <th>agente_equipamento</th>\n",
       "    </tr>\n",
       "  </thead>\n",
       "  <tbody>\n",
       "    <tr>\n",
       "      <th>0</th>\n",
       "      <td>2015-10-26</td>\n",
       "      <td>08:42</td>\n",
       "      <td>2015-11-03</td>\n",
       "      <td>Código 6 - AUTOS NO TALÃO MANUAL</td>\n",
       "    </tr>\n",
       "    <tr>\n",
       "      <th>1</th>\n",
       "      <td>2015-10-26</td>\n",
       "      <td>08:45</td>\n",
       "      <td>2015-11-03</td>\n",
       "      <td>Código 6 - AUTOS NO TALÃO MANUAL</td>\n",
       "    </tr>\n",
       "    <tr>\n",
       "      <th>2</th>\n",
       "      <td>2015-10-26</td>\n",
       "      <td>08:48</td>\n",
       "      <td>2015-11-03</td>\n",
       "      <td>Código 6 - AUTOS NO TALÃO MANUAL</td>\n",
       "    </tr>\n",
       "    <tr>\n",
       "      <th>3</th>\n",
       "      <td>2015-10-26</td>\n",
       "      <td>08:55</td>\n",
       "      <td>2015-11-03</td>\n",
       "      <td>Código 6 - AUTOS NO TALÃO MANUAL</td>\n",
       "    </tr>\n",
       "    <tr>\n",
       "      <th>4</th>\n",
       "      <td>2015-10-26</td>\n",
       "      <td>09:10</td>\n",
       "      <td>2015-11-03</td>\n",
       "      <td>Código 6 - AUTOS NO TALÃO MANUAL</td>\n",
       "    </tr>\n",
       "  </tbody>\n",
       "</table>\n",
       "</div>"
      ],
      "text/plain": [
       "  data_infracao hora_infracao data_implantacao  \\\n",
       "0    2015-10-26         08:42       2015-11-03   \n",
       "1    2015-10-26         08:45       2015-11-03   \n",
       "2    2015-10-26         08:48       2015-11-03   \n",
       "3    2015-10-26         08:55       2015-11-03   \n",
       "4    2015-10-26         09:10       2015-11-03   \n",
       "\n",
       "                 agente_equipamento  \n",
       "0  Código 6 - AUTOS NO TALÃO MANUAL  \n",
       "1  Código 6 - AUTOS NO TALÃO MANUAL  \n",
       "2  Código 6 - AUTOS NO TALÃO MANUAL  \n",
       "3  Código 6 - AUTOS NO TALÃO MANUAL  \n",
       "4  Código 6 - AUTOS NO TALÃO MANUAL  "
      ]
     },
     "metadata": {},
     "output_type": "display_data"
    }
   ],
   "source": [
    "# Lendo datasets tratados\n",
    "multas2016 = pd.read_csv('treated-datasets/infracoes-transito-2016.csv', sep=',', index_col=0)\n",
    "multas2015 = pd.read_csv('treated-datasets/infracoes-transito-2015.csv', sep=',', index_col=0)\n",
    "\n",
    "print('---REGISTROS DE INFRAÇÕES DE TRÂNSITO EM RECIFE/2016---')\n",
    "display(multas2016.head())\n",
    "print(' ')\n",
    "print('---REGISTROS DE INFRAÇÕES DE TRÂNSITO EM RECIFE/2015---')\n",
    "display(multas2015.head())"
   ]
  },
  {
   "cell_type": "markdown",
   "metadata": {},
   "source": [
    "Para a análise dos dois conjuntos de dados referentes aos registros de infrações de trânsito, vimos que eles não apresentam o mesmo problema que os conjuntos de dados sobre acidentes, visto que possuem dados para todos os meses de 2015 e 2015, exceto que para o mês de dezembro do ano de 2016, a quantidade de infrações registradas é considerávelmente menor do que para os outros meses, mas isto não irá causar um grande impacto na nossa análise. Mesmo assim, decidirmos juntar os dois `datasets` (`multas2015` e `multas2016`), com o mesmo objetivo de quando fizemos isso para os dados sobre acidentes, que é o de poder trabalhar com mais dados e melhorar nossa análise. "
   ]
  },
  {
   "cell_type": "code",
   "execution_count": 10,
   "metadata": {},
   "outputs": [
    {
     "name": "stdout",
     "output_type": "stream",
     "text": [
      "629158 infrações de trânsito foram registradas na cidade do Recife em 2015\n",
      "570798 infrações de trânsito foram registradas na cidade do Recife em 2016\n",
      "OBS: Decaimento de 9.28% no número de infrações de trânsito registradas em Recife\n"
     ]
    }
   ],
   "source": [
    "print('{} infrações de trânsito foram registradas na cidade do Recife em 2015'.format(multas2015.shape[0]))\n",
    "print('{} infrações de trânsito foram registradas na cidade do Recife em 2016'.format(multas2016.shape[0]))\n",
    "\n",
    "crescimento = multas2016.shape[0] - multas2015.shape[0]\n",
    "porcentagem_crescimento = round((crescimento*100)/multas2015.shape[0],2)\n",
    "print('OBS: Decaimento de {}% no número de infrações de trânsito registradas em Recife'.format(abs(porcentagem_crescimento)))"
   ]
  },
  {
   "cell_type": "markdown",
   "metadata": {},
   "source": [
    "Resultado novamente surpreendente. Podemos ver que, de 2015 para 2016, não aconteceu um crescimento na quantidade de infrações registradas. Surpreendente pois sabemos que a quantidade de veículos nas ruas cresce à cada dia. Acho que as pessoas estão tendo mais consciência rsrsrs..."
   ]
  },
  {
   "cell_type": "markdown",
   "metadata": {},
   "source": [
    "Abaixo nós criamos algumas colunas extras nos `datasets` usando as funções auxiliares implementadas anteriormente. O objetivo disto é apenas facilitar na hora de visualizar os dados."
   ]
  },
  {
   "cell_type": "code",
   "execution_count": 11,
   "metadata": {},
   "outputs": [
    {
     "data": {
      "text/html": [
       "<div>\n",
       "<table border=\"1\" class=\"dataframe\">\n",
       "  <thead>\n",
       "    <tr style=\"text-align: right;\">\n",
       "      <th></th>\n",
       "      <th>data_infracao</th>\n",
       "      <th>hora_infracao</th>\n",
       "      <th>data_implantacao</th>\n",
       "      <th>agente_equipamento</th>\n",
       "      <th>range_hora</th>\n",
       "      <th>periodo_dia</th>\n",
       "      <th>mes</th>\n",
       "    </tr>\n",
       "  </thead>\n",
       "  <tbody>\n",
       "    <tr>\n",
       "      <th>0</th>\n",
       "      <td>2015-12-30</td>\n",
       "      <td>11:10</td>\n",
       "      <td>2016-01-04</td>\n",
       "      <td>Código 6 - AUTOS NO TALÃO MANUAL</td>\n",
       "      <td>[11h, 12h)</td>\n",
       "      <td>manhã</td>\n",
       "      <td>Jan</td>\n",
       "    </tr>\n",
       "    <tr>\n",
       "      <th>1</th>\n",
       "      <td>2015-12-20</td>\n",
       "      <td>08:20</td>\n",
       "      <td>2016-01-04</td>\n",
       "      <td>Código 6 - AUTOS NO TALÃO MANUAL</td>\n",
       "      <td>[08h, 09h)</td>\n",
       "      <td>manhã</td>\n",
       "      <td>Jan</td>\n",
       "    </tr>\n",
       "    <tr>\n",
       "      <th>2</th>\n",
       "      <td>2015-12-24</td>\n",
       "      <td>20:15</td>\n",
       "      <td>2016-01-04</td>\n",
       "      <td>Código 6 - AUTOS NO TALÃO MANUAL</td>\n",
       "      <td>[20h, 21h)</td>\n",
       "      <td>noite</td>\n",
       "      <td>Jan</td>\n",
       "    </tr>\n",
       "    <tr>\n",
       "      <th>3</th>\n",
       "      <td>2015-12-28</td>\n",
       "      <td>13:50</td>\n",
       "      <td>2016-01-04</td>\n",
       "      <td>Código 6 - AUTOS NO TALÃO MANUAL</td>\n",
       "      <td>[13h, 14h)</td>\n",
       "      <td>tarde</td>\n",
       "      <td>Jan</td>\n",
       "    </tr>\n",
       "    <tr>\n",
       "      <th>4</th>\n",
       "      <td>2015-12-28</td>\n",
       "      <td>13:55</td>\n",
       "      <td>2016-01-04</td>\n",
       "      <td>Código 6 - AUTOS NO TALÃO MANUAL</td>\n",
       "      <td>[13h, 14h)</td>\n",
       "      <td>tarde</td>\n",
       "      <td>Jan</td>\n",
       "    </tr>\n",
       "  </tbody>\n",
       "</table>\n",
       "</div>"
      ],
      "text/plain": [
       "  data_infracao hora_infracao data_implantacao  \\\n",
       "0    2015-12-30         11:10       2016-01-04   \n",
       "1    2015-12-20         08:20       2016-01-04   \n",
       "2    2015-12-24         20:15       2016-01-04   \n",
       "3    2015-12-28         13:50       2016-01-04   \n",
       "4    2015-12-28         13:55       2016-01-04   \n",
       "\n",
       "                 agente_equipamento  range_hora periodo_dia  mes  \n",
       "0  Código 6 - AUTOS NO TALÃO MANUAL  [11h, 12h)       manhã  Jan  \n",
       "1  Código 6 - AUTOS NO TALÃO MANUAL  [08h, 09h)       manhã  Jan  \n",
       "2  Código 6 - AUTOS NO TALÃO MANUAL  [20h, 21h)       noite  Jan  \n",
       "3  Código 6 - AUTOS NO TALÃO MANUAL  [13h, 14h)       tarde  Jan  \n",
       "4  Código 6 - AUTOS NO TALÃO MANUAL  [13h, 14h)       tarde  Jan  "
      ]
     },
     "execution_count": 11,
     "metadata": {},
     "output_type": "execute_result"
    }
   ],
   "source": [
    "# Criando colunas extras utilizando funções definidas previamente\n",
    "multas2016['range_hora'] = multas2016['hora_infracao'].apply(lambda x: criaRangeHora(x))\n",
    "multas2016['periodo_dia'] = multas2016['hora_infracao'].apply(lambda x: periodoDoDia(x))\n",
    "multas2016['mes'] = multas2016['data_implantacao'].apply(lambda x: retornaMes(x))\n",
    "\n",
    "multas2015['range_hora'] = multas2015['hora_infracao'].apply(lambda x: criaRangeHora(x))\n",
    "multas2015['periodo_dia'] = multas2015['hora_infracao'].apply(lambda x: periodoDoDia(x))\n",
    "multas2015['mes'] = multas2015['data_implantacao'].apply(lambda x: retornaMes(x))\n",
    "\n",
    "multas2016.head()"
   ]
  },
  {
   "cell_type": "markdown",
   "metadata": {},
   "source": [
    "Abaixo podemos ver o meio que mais implantou multas em 2015/16."
   ]
  },
  {
   "cell_type": "code",
   "execution_count": 12,
   "metadata": {},
   "outputs": [
    {
     "name": "stdout",
     "output_type": "stream",
     "text": [
      "---MEIOS QUE MAIS IMPLANTARAM MULTAS (2015/16)---\n",
      "=> Código 3 - LOMBADA ELETRÔNICA - 562238 (ou 46.85% das) infrações registradas\n"
     ]
    }
   ],
   "source": [
    "# Concatenando dataframe de multas de 2015 e 2016\n",
    "multasTotal = pd.concat([multas2016, multas2015], axis=0)\n",
    "\n",
    "# Meio que mais implantou multas de trânsito (2015/16)\n",
    "equip_moda = multasTotal.agente_equipamento.mode()[0]\n",
    "qtd_equip = multasTotal.groupby('agente_equipamento').size().sort_values(ascending=False)[0]\n",
    "\n",
    "# Calculando porcentagens\n",
    "pct_equip = round(qtd_equip*100.0/multasTotal.shape[0], 2)\n",
    "\n",
    "print('---MEIOS QUE MAIS IMPLANTARAM MULTAS (2015/16)---')\n",
    "print('=> {} - {} (ou {}% das) infrações registradas'.format(equip_moda, qtd_equip, pct_equip))"
   ]
  },
  {
   "cell_type": "markdown",
   "metadata": {},
   "source": [
    "A lombada eletrônica ganha disparado!!! De todas as infrações registradas no Recife em 2015/16, quase metade foram registradas pelas lombadas eletrônicas. Isso nos mostra que muita gente não respeita os limites de velocidade das vias. Por outro lado, se a maioria das pessoas respeitasse o limite de velocidade das vias, o número de infrações diminuiría bastante. Será que com mais lombadas eletrônicas as pessoas não acabam tendo que prestar mais atenção? Aumentar a quantidade de lombadas eletrônicas pode ser uma alternativa para melhorar o trânsito, já que respeitando o limite de velocidade das vias, há menor probabilidade de ocorrerem acidentes."
   ]
  },
  {
   "cell_type": "markdown",
   "metadata": {},
   "source": [
    "Mais abaixo podemos ver gráficos mostrando a quantidade de infrações implantadas por mês (primeiro gráfico), e a quantidade de infrações cometidas por horas do dia (segundo gráfico) e por período do dia (terceiro gráfico). O três gráficos mostram dados para os anos de 2015/16. "
   ]
  },
  {
   "cell_type": "code",
   "execution_count": 13,
   "metadata": {},
   "outputs": [
    {
     "data": {
      "text/plain": [
       "<matplotlib.axes._subplots.AxesSubplot at 0x7f9e4ca70be0>"
      ]
     },
     "execution_count": 13,
     "metadata": {},
     "output_type": "execute_result"
    },
    {
     "data": {
      "image/png": "[encoded data removed]",
      "text/plain": [
       "<matplotlib.figure.Figure at 0x7f9e5409b5c0>"
      ]
     },
     "metadata": {},
     "output_type": "display_data"
    }
   ],
   "source": [
    "# Ordem dos valores no eixo x dos gráficos\n",
    "meses = ['Jan','Fev','Mar','Abr','Mai','Jun','Jul','Ago','Set','Out','Nov','Dez']\n",
    "periodos = ['madrugada','manhã','tarde','noite']\n",
    "horas = ['[00h, 01h)','[01h, 02h)','[02h, 03h)','[03h, 04h)','[04h, 05h)','[05h, 06h)','[06h, 07h)','[07h, 08h)',\n",
    "        '[08h, 09h)','[09h, 10h)','[10h, 11h)','[11h, 12h)','[12h, 13h)','[13h, 14h)','[14h, 15h)','[15h, 16h)',\n",
    "        '[16h, 17h)','[17h, 18h)','[18h, 19h)','[19h, 20h)','[20h, 21h)','[21h, 22h)','[22h, 23h)','[23h, 00h)']\n",
    "\n",
    "# PLOTS\n",
    "fig, ax = plt.subplots(ncols=3,figsize=(20,7))\n",
    "\n",
    "multasXmes = multasTotal.groupby('mes').size()\n",
    "multasXmes = multasXmes.reindex(meses)\n",
    "multasXmes.plot.bar(title='QTD DE REGISTRO DE INFRAÇÕES x MÊS (2015/16)', grid=True, ax=ax[0])\n",
    "\n",
    "multasXhoras = multasTotal.groupby('range_hora').size()\n",
    "multasXhoras = multasXhoras.reindex(horas)\n",
    "multasXhoras.plot.bar(title='QTD DE INFRAÇÕES x HORAS DO DIA (2015/16)', grid=True, ax=ax[1])\n",
    "\n",
    "multasXperiodo = multasTotal.groupby('periodo_dia').size()\n",
    "multasXperiodo = multasXperiodo.reindex(periodos)\n",
    "multasXperiodo.plot.bar(title='QTD DE INFRAÇÕES x PERÍODO DO DIA (2015/16)', grid=True, ax=ax[2])"
   ]
  },
  {
   "cell_type": "markdown",
   "metadata": {},
   "source": [
    "#### Respondendo a pergunta 3\n",
    "\n",
    "É mais provável ocorrerem infrações de trânsito no horário da noite?\n",
    "\n",
    "Não. Podemos observar no terceiro gráfico que a quantidade maior de infrações ocorreram na parte da tarde, seguido pela parte da manhã, com uma grande superioridade com relação a quantidade de infrações que ocorreram na parte da noite. No segundo gráfico podemos analisar a informação do terceiro gráfico com mais detalhes. Nota-se que a concentração maior de cometimento de infrações se dá no intervalo entre 8h e 17h, com picos nos seguintes intervalos:\n",
    "\n",
    "- Entre 10h e 11h: acreditamos que isso se deve ao fato de que este é o horário onde parte das pessas saem do trabalho para almoçar, ou largam de escolas e universidades, entre outras coisas. Logo, há um aumento no fluxo de carros durante esse horário. As vezes, a pressa pra chegar logo em casa pode ser um causador de infrações de trânsito, fazendo a pessoa ultrapassar o limite de velocidade de uma via ou passar em um sinal vermelho, por exemplo.\n",
    "- Entre 15h e 16h: um possível fato que pode explicar um pico neste intervalo é que, durante esse horário, o fluxo de carros não é tão grande, deixando o trânsito mais livre para que aconteçam infrações de passar o limite de velocidade de uma via, por exemplo.\n",
    "\n",
    "Na parte da noite há poucos registros quando comparados com os períodos da manhã e tarde, pois de noite em muitos lugares o trânsito é lento, impedindo de alguém ultrapassar o limite de velocidade de uma via, por exemplo. E a partir de um certo horário da noite, as lombadas eletrônicas são desligadas e já se pode estacionar em alguns lugares que não poderia se fosse durante o dia.\n",
    "\n",
    "OBS: Não conseguimos concluir nada olhando para o primeiro gráfico, visto que de um mês para outro é pouca a diferença da quantidade de acidentes, exceto Novembro, mas também não soubemos explicar isto."
   ]
  },
  {
   "cell_type": "markdown",
   "metadata": {},
   "source": [
    "Abaixo fazemos uma análise para o ano de 2016 (entre Janeiro e Outubro), de qual é a relação entre a proporção de acidentes e a proporção de infrações, ou seja, se são diretamente ou inversamente proporcionais. Se forem diretamente proporcionais, notamos que é o reflexo de que a cada dia cresce o número de veículos nas ruas. Se forem inversamente proporcionais, mais especificamente, se quando há um aumento da proporção de infrações, há uma diminuição na proporção de acidentes, podemos responder a pergunta 5 (O registro de infrações ajuda a diminuir a quantidade de acidentes?)"
   ]
  },
  {
   "cell_type": "code",
   "execution_count": 14,
   "metadata": {},
   "outputs": [
    {
     "data": {
      "text/plain": [
       "<matplotlib.axes._subplots.AxesSubplot at 0x7f9e50f31550>"
      ]
     },
     "execution_count": 14,
     "metadata": {},
     "output_type": "execute_result"
    },
    {
     "data": {
      "image/png": "[encoded data removed]",
      "text/plain": [
       "<matplotlib.figure.Figure at 0x7f9e50e996a0>"
      ]
     },
     "metadata": {},
     "output_type": "display_data"
    }
   ],
   "source": [
    "# Quantidade de acidentes (Jan/16 a Out/16)\n",
    "qtdAcidentes2016 = acidentes2016.shape[0]\n",
    "\n",
    "# Quantidade de infrações em 2016 (excluindo Novembro e Dezembro)\n",
    "qtdMultas2016 = multas2016[(multas2016.mes != 'Nov') & (multas2016.mes != 'Dez')].shape[0]\n",
    "\n",
    "meses = ['Jan','Fev','Mar','Abr','Mai','Jun','Jul','Ago','Set','Out']\n",
    "\n",
    "multasXmes2016 = multas2016.groupby('mes').size()\n",
    "multasXmes2016 = multasXmes2016.reindex(meses)\n",
    "multasXmes2016 = multasXmes2016.to_frame()\n",
    "multasXmes2016.columns = ['qtd_infracoes']\n",
    "acidentesXmes2016 = acidentesXmes2016.to_frame()\n",
    "acidentesXmes2016.columns = ['qtd_acidentes']\n",
    "\n",
    "# Adicionando nova coluna\n",
    "multasXmes2016['taxa_infracoes'] = multasXmes2016['qtd_infracoes'].apply(lambda x: round(x/qtdMultas2016,3))\n",
    "acidentesXmes2016['taxa_acidentes'] = acidentesXmes2016['qtd_acidentes'].apply(lambda x: round(x/qtdAcidentes2016,3))\n",
    "\n",
    "# Excluindo coluna que já não será mais necessária\n",
    "multasXmes2016.drop(['qtd_infracoes'], axis=1, inplace=True)\n",
    "acidentesXmes2016.drop(['qtd_acidentes'], axis=1, inplace=True)\n",
    "\n",
    "# Concatenando dataframes\n",
    "taxa_maXmes2016 = pd.concat([multasXmes2016, acidentesXmes2016], axis=1)\n",
    "\n",
    "# PLOT\n",
    "taxa_maXmes2016.plot.bar(title='PROPORÇÃO DE INFRAÇÕES E ACIDENTES x MÊS (Jan/16 ~ Out/16)', grid=True, figsize=(10,5))"
   ]
  },
  {
   "cell_type": "markdown",
   "metadata": {},
   "source": [
    "Percebemos que não há aparentemente nenhuma relação direta ou inversa entre as duas variáveis escolhidas. Para poder analisar com mais precisão aplicaremos uma técnica de aprendizagem chamada de regressão linear, com o intuito de verificar se há algum padrão na relação entre essas duas variáveis. Vamos calcular ainda a correlação entre elas para tirarmos alguma conclusão."
   ]
  },
  {
   "cell_type": "markdown",
   "metadata": {},
   "source": [
    "### 2.3 &mdash; Técnica de aprendizagem"
   ]
  },
  {
   "cell_type": "code",
   "execution_count": 15,
   "metadata": {},
   "outputs": [
    {
     "name": "stdout",
     "output_type": "stream",
     "text": [
      "--------MATRIZ DE CORRELAÇÃO--------\n"
     ]
    },
    {
     "data": {
      "text/html": [
       "<div>\n",
       "<table border=\"1\" class=\"dataframe\">\n",
       "  <thead>\n",
       "    <tr style=\"text-align: right;\">\n",
       "      <th></th>\n",
       "      <th>taxa_infracoes</th>\n",
       "      <th>taxa_acidentes</th>\n",
       "    </tr>\n",
       "  </thead>\n",
       "  <tbody>\n",
       "    <tr>\n",
       "      <th>taxa_infracoes</th>\n",
       "      <td>1.000000</td>\n",
       "      <td>0.521628</td>\n",
       "    </tr>\n",
       "    <tr>\n",
       "      <th>taxa_acidentes</th>\n",
       "      <td>0.521628</td>\n",
       "      <td>1.000000</td>\n",
       "    </tr>\n",
       "  </tbody>\n",
       "</table>\n",
       "</div>"
      ],
      "text/plain": [
       "                taxa_infracoes  taxa_acidentes\n",
       "taxa_infracoes        1.000000        0.521628\n",
       "taxa_acidentes        0.521628        1.000000"
      ]
     },
     "metadata": {},
     "output_type": "display_data"
    },
    {
     "name": "stdout",
     "output_type": "stream",
     "text": [
      " \n",
      "-------------------------------REGRESSÃO LINEAR-------------------------------\n"
     ]
    },
    {
     "data": {
      "image/png": "[encoded data removed]",
      "text/plain": [
       "<matplotlib.figure.Figure at 0x7f9e5409b908>"
      ]
     },
     "metadata": {},
     "output_type": "display_data"
    }
   ],
   "source": [
    "from scipy.stats import linregress\n",
    "\n",
    "# Regressão Linear\n",
    "\n",
    "X = taxa_maXmes2016['taxa_infracoes'].values.copy() # variável independente\n",
    "y = taxa_maXmes2016['taxa_acidentes'].values # variável dependente\n",
    "\n",
    "# Criando modelo de regressão linear\n",
    "model = linregress(X,y)\n",
    "\n",
    "# Coeficientes\n",
    "b0 = model.intercept\n",
    "b1 = model.slope \n",
    "\n",
    "# Scatter PLOTS\n",
    "figs, ax = plt.subplots(1,1,figsize=(10,5))\n",
    "taxa_maXmes2016[['taxa_infracoes','taxa_acidentes']].plot.scatter(x='taxa_infracoes', y='taxa_acidentes', ax=ax)\n",
    "ax.plot(taxa_maXmes2016['taxa_infracoes'], taxa_maXmes2016['taxa_infracoes'].map(lambda x: b1*x+b0), color='red')\n",
    "\n",
    "# Cálculo da matriz de correlação\n",
    "print('--------MATRIZ DE CORRELAÇÃO--------')\n",
    "display(taxa_maXmes2016.corr())\n",
    "\n",
    "print(' ')\n",
    "print('-------------------------------REGRESSÃO LINEAR-------------------------------')"
   ]
  },
  {
   "cell_type": "markdown",
   "metadata": {},
   "source": [
    "#### Respondendo a pergunta 5\n",
    "\n",
    "O registro de infrações ajuda a diminuir a quantidade de acidentes?\n",
    "\n",
    "Não necessariamente. Analisando a regressão linear, observamos que existe uma tendência não muito grande de que, quando a taxa (ou proporção) de infrações cresce, a taxa (ou proporção) de acidentes também cresce. Logo, não é verdade que quanto mais infrações são registradas, menos acidentes acontecem.\n",
    "\n",
    "Analisando a matriz de correlação, vemos que o coeficiente de correlação entre as duas variáveis escolhidas é de aproximadamente 0.52. Segundo o [Wikipedia](https://pt.wikipedia.org/wiki/Coeficiente_de_correla%C3%A7%C3%A3o_de_Pearson), um coeficiente de correlação de 0.5 a 0.7 positivo ou negativo indica uma correlação moderada. Para resposta da pergunta 5 ser sim, esse coeficiente deveria ser negativo, que indica que quando o valor de uma variável tende a crescer, o da outra tende a diminuir."
   ]
  }
 ],
 "metadata": {
  "kernelspec": {
   "display_name": "Python 3",
   "language": "python",
   "name": "python3"
  },
  "language_info": {
   "codemirror_mode": {
    "name": "ipython",
    "version": 3
   },
   "file_extension": ".py",
   "mimetype": "text/x-python",
   "name": "python",
   "nbconvert_exporter": "python",
   "pygments_lexer": "ipython3",
   "version": "3.5.2"
  }
 },
 "nbformat": 4,
 "nbformat_minor": 2
}
