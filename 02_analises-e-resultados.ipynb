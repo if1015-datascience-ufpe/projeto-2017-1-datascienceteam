{
 "cells": [
  {
   "cell_type": "markdown",
   "metadata": {},
   "source": [
    "# Introdução à Ciência dos Dados &mdash; Projeto Final\n",
    "\n",
    "Alunos: Artur Franco (anf), Lucas Glasner (lgr3)"
   ]
  },
  {
   "cell_type": "markdown",
   "metadata": {},
   "source": [
    "## 2 &mdash; Análise exploratória dos dados"
   ]
  },
  {
   "cell_type": "markdown",
   "metadata": {},
   "source": [
    "A análise exploratória dos dados (AED) é um passo importante, como todos os outros, na área de `Data Science`, e pode ser feita utilizando algum tipo de estatística descritiva ou análise de gráficos, com o intuito de se familiarizar com os dados e entender melhor sobre a natureza dos mesmos. Através da AED, nós buscamos confirmar hipóteses, ou seja, obter resposta para algumas perguntas previamente pensadas, como por exemplo: \n",
    "1. É mais provável ocorrerem acidentes em bairros de classe mais baixa?\n",
    "* É mais provável ocorrerem infrações de trânsito no horário da noite?\n",
    "* Para a maioria dos acidentes foi registrada uma multa?\n",
    "\n",
    "Nós não obtivemos resposta para a pergunta 3, uma vez que pela natureza do problema real e do próprio `dataset`, não encontramos uma maneira para tal. Já para as perguntas 1 e 2, obtivemos as respostas que irão ser vistas no decorrer deste `notebook`. Buscamos ainda detectar novas hipóteses, as quais poderão ser vistas também no decorrer deste `notebook`.\n",
    "\n",
    "Para realizar a análise exploratória dos dados foram utilizadas alguns recursos disponíveis para `Python`. Foram  elas: a biblioteca `pandas` (para tratamento e análise de dados) e o pacote `pyplot` da biblioteca `matplotlib` (para visualização de gráficos)."
   ]
  },
  {
   "cell_type": "code",
   "execution_count": 25,
   "metadata": {
    "collapsed": true
   },
   "outputs": [],
   "source": [
    "import pandas as pd\n",
    "import numpy as np\n",
    "import matplotlib.pyplot as plt\n",
    "from IPython.display import display\n",
    "\n",
    "% matplotlib inline"
   ]
  },
  {
   "cell_type": "markdown",
   "metadata": {},
   "source": [
    "### 2.1 &mdash; Análise exploratória dos dados sobre acidentes de trânsito"
   ]
  },
  {
   "cell_type": "code",
   "execution_count": 122,
   "metadata": {},
   "outputs": [
    {
     "name": "stdout",
     "output_type": "stream",
     "text": [
      "DATASET REFERENTE AOS ACIDENTES DE TRÂNSITO EM RECIFE/2016\n"
     ]
    },
    {
     "data": {
      "text/html": [
       "<div>\n",
       "<table border=\"1\" class=\"dataframe\">\n",
       "  <thead>\n",
       "    <tr style=\"text-align: right;\">\n",
       "      <th></th>\n",
       "      <th>data</th>\n",
       "      <th>hora</th>\n",
       "      <th>endereco</th>\n",
       "      <th>bairro</th>\n",
       "      <th>natureza</th>\n",
       "      <th>tipo</th>\n",
       "    </tr>\n",
       "  </thead>\n",
       "  <tbody>\n",
       "    <tr>\n",
       "      <th>0</th>\n",
       "      <td>2016-01-01</td>\n",
       "      <td>00:58</td>\n",
       "      <td>Av Jornalista Possidonio Cavalcanti Bastos</td>\n",
       "      <td>Iputinga</td>\n",
       "      <td>COLISÃO</td>\n",
       "      <td>SEM VÍTIMA</td>\n",
       "    </tr>\n",
       "    <tr>\n",
       "      <th>1</th>\n",
       "      <td>2016-01-01</td>\n",
       "      <td>01:23</td>\n",
       "      <td>Av Engenheiro Domingos Ferreira</td>\n",
       "      <td>Boa Viagem</td>\n",
       "      <td>COLISÃO</td>\n",
       "      <td>SEM VÍTIMA</td>\n",
       "    </tr>\n",
       "    <tr>\n",
       "      <th>2</th>\n",
       "      <td>2016-01-01</td>\n",
       "      <td>01:42</td>\n",
       "      <td>Rua Dr Alvaro Ferraz</td>\n",
       "      <td>Jordão</td>\n",
       "      <td>COLISÃO</td>\n",
       "      <td>SEM VÍTIMA</td>\n",
       "    </tr>\n",
       "    <tr>\n",
       "      <th>3</th>\n",
       "      <td>2016-01-01</td>\n",
       "      <td>03:08</td>\n",
       "      <td>Av Jornalista Costa Porto</td>\n",
       "      <td>Ibura</td>\n",
       "      <td>COLISÃO</td>\n",
       "      <td>SEM VÍTIMA</td>\n",
       "    </tr>\n",
       "    <tr>\n",
       "      <th>4</th>\n",
       "      <td>2016-01-01</td>\n",
       "      <td>05:34</td>\n",
       "      <td>Av Governador Agamenon Magalhaes</td>\n",
       "      <td>Paissandu</td>\n",
       "      <td>CHOQUE</td>\n",
       "      <td>COM VÍTIMA</td>\n",
       "    </tr>\n",
       "  </tbody>\n",
       "</table>\n",
       "</div>"
      ],
      "text/plain": [
       "         data   hora                                    endereco      bairro  \\\n",
       "0  2016-01-01  00:58  Av Jornalista Possidonio Cavalcanti Bastos    Iputinga   \n",
       "1  2016-01-01  01:23             Av Engenheiro Domingos Ferreira  Boa Viagem   \n",
       "2  2016-01-01  01:42                        Rua Dr Alvaro Ferraz      Jordão   \n",
       "3  2016-01-01  03:08                   Av Jornalista Costa Porto       Ibura   \n",
       "4  2016-01-01  05:34            Av Governador Agamenon Magalhaes   Paissandu   \n",
       "\n",
       "  natureza        tipo  \n",
       "0  COLISÃO  SEM VÍTIMA  \n",
       "1  COLISÃO  SEM VÍTIMA  \n",
       "2  COLISÃO  SEM VÍTIMA  \n",
       "3  COLISÃO  SEM VÍTIMA  \n",
       "4   CHOQUE  COM VÍTIMA  "
      ]
     },
     "metadata": {},
     "output_type": "display_data"
    },
    {
     "name": "stdout",
     "output_type": "stream",
     "text": [
      " \n",
      "DATASET REFERENTE AOS ACIDENTES DE TRÂNSITO EM RECIFE/2015\n"
     ]
    },
    {
     "data": {
      "text/html": [
       "<div>\n",
       "<table border=\"1\" class=\"dataframe\">\n",
       "  <thead>\n",
       "    <tr style=\"text-align: right;\">\n",
       "      <th></th>\n",
       "      <th>data</th>\n",
       "      <th>hora</th>\n",
       "      <th>endereco</th>\n",
       "      <th>bairro</th>\n",
       "      <th>natureza</th>\n",
       "      <th>tipo</th>\n",
       "    </tr>\n",
       "  </thead>\n",
       "  <tbody>\n",
       "    <tr>\n",
       "      <th>0</th>\n",
       "      <td>2015-12-03</td>\n",
       "      <td>11:36</td>\n",
       "      <td>Av Norte</td>\n",
       "      <td>Casa Amarela</td>\n",
       "      <td>COLISÃO</td>\n",
       "      <td>SEM VÍTIMA</td>\n",
       "    </tr>\n",
       "    <tr>\n",
       "      <th>1</th>\n",
       "      <td>2015-06-01</td>\n",
       "      <td>06:35</td>\n",
       "      <td>Est De Belem</td>\n",
       "      <td>Encruzilhada</td>\n",
       "      <td>COLISÃO</td>\n",
       "      <td>SEM VÍTIMA</td>\n",
       "    </tr>\n",
       "    <tr>\n",
       "      <th>2</th>\n",
       "      <td>2015-06-01</td>\n",
       "      <td>08:04</td>\n",
       "      <td>Rua Ernesto De Paula Santos</td>\n",
       "      <td>Boa Viagem</td>\n",
       "      <td>COLISÃO</td>\n",
       "      <td>SEM VÍTIMA</td>\n",
       "    </tr>\n",
       "    <tr>\n",
       "      <th>3</th>\n",
       "      <td>2015-06-01</td>\n",
       "      <td>08:06</td>\n",
       "      <td>Av Sul</td>\n",
       "      <td>Afogados</td>\n",
       "      <td>COLISÃO</td>\n",
       "      <td>SEM VÍTIMA</td>\n",
       "    </tr>\n",
       "    <tr>\n",
       "      <th>4</th>\n",
       "      <td>2015-06-01</td>\n",
       "      <td>08:13</td>\n",
       "      <td>Rua Benfica</td>\n",
       "      <td>Madalena</td>\n",
       "      <td>COLISÃO</td>\n",
       "      <td>SEM VÍTIMA</td>\n",
       "    </tr>\n",
       "  </tbody>\n",
       "</table>\n",
       "</div>"
      ],
      "text/plain": [
       "         data   hora                     endereco        bairro natureza  \\\n",
       "0  2015-12-03  11:36                     Av Norte  Casa Amarela  COLISÃO   \n",
       "1  2015-06-01  06:35                 Est De Belem  Encruzilhada  COLISÃO   \n",
       "2  2015-06-01  08:04  Rua Ernesto De Paula Santos    Boa Viagem  COLISÃO   \n",
       "3  2015-06-01  08:06                       Av Sul      Afogados  COLISÃO   \n",
       "4  2015-06-01  08:13                  Rua Benfica      Madalena  COLISÃO   \n",
       "\n",
       "         tipo  \n",
       "0  SEM VÍTIMA  \n",
       "1  SEM VÍTIMA  \n",
       "2  SEM VÍTIMA  \n",
       "3  SEM VÍTIMA  \n",
       "4  SEM VÍTIMA  "
      ]
     },
     "metadata": {},
     "output_type": "display_data"
    }
   ],
   "source": [
    "# Lendo datasets tratados\n",
    "acidentes2016 = pd.read_csv('treated-datasets/acidentes-2016.csv', sep=',', index_col=0)\n",
    "acidentes2015 = pd.read_csv('treated-datasets/acidentes-2015.csv', sep=',', index_col=0)\n",
    "\n",
    "print('DATASET REFERENTE AOS ACIDENTES DE TRÂNSITO EM RECIFE/2016')\n",
    "display(acidentes2016.head())\n",
    "print(' ')\n",
    "print('DATASET REFERENTE AOS ACIDENTES DE TRÂNSITO EM RECIFE/2015')\n",
    "display(acidentes2015.head())"
   ]
  },
  {
   "cell_type": "code",
   "execution_count": 123,
   "metadata": {},
   "outputs": [
    {
     "name": "stdout",
     "output_type": "stream",
     "text": [
      "De acordo com os dados...\n",
      "7169 acidentes de trânsito foram registrados na cidade do Recife em 2015 (Entre Junho e Dezembro)\n",
      "9130 acidentes de trânsito foram registrados na cidade do Recife em 2016 (Entre Janeiro e Outubro)\n",
      " \n",
      "Melhorando a estimativa...\n",
      "12889 acidentes de trânsito foram registrados na cidade do Recife em 2015\n",
      "10956 acidentes de trânsito foram registrados na cidade do Recife em 2016\n",
      " \n",
      "Decaimento de cerca de 15.0% no número de acidentes de trânsito em Recife\n"
     ]
    }
   ],
   "source": [
    "# Quantidade de acidentes de trânsito registrados em 2015 e 1026\n",
    "print('De acordo com os dados...')\n",
    "print('{} acidentes de trânsito foram registrados na cidade do Recife em 2015 (Entre Junho e Dezembro)'.format(acidentes2015.shape[0]))\n",
    "print('{} acidentes de trânsito foram registrados na cidade do Recife em 2016 (Entre Janeiro e Outubro)'.format(acidentes2016.shape[0]))\n",
    "\n",
    "print(' ')\n",
    "\n",
    "# Para 2015: 7169 acidentes em 7 meses (Junho a Dezembro)\n",
    "# Média: cerca de 1024 acidentes por mês\n",
    "# Supondo quantidade de acidentes em cada mês restante (Janeiro a Maio) = 1024 (média)\n",
    "# Nova quantidade total de acidentes = 7169 + 1024*5 = 12289\n",
    "totalAcidentes2015 = 12889\n",
    "\n",
    "# Para 2016: 9130 acidentes em 10 meses (Janeiro a Outubro)\n",
    "# Média: 913 acidentes por mês\n",
    "# Supondo quantidade de acidentes em cada mês restante (Novembro e Dezembro) = 913 (média)\n",
    "# Nova quantidade total de acidentes = 9130 + 913*2 = 10956\n",
    "totalAcidentes2016 = 10956\n",
    "\n",
    "# Melhorando estimativa da quantidade de acidentes de trânsito registrados em 2015 e 1026\n",
    "print('Melhorando a estimativa...')\n",
    "print('{} acidentes de trânsito foram registrados na cidade do Recife em 2015'.format(totalAcidentes2015))\n",
    "print('{} acidentes de trânsito foram registrados na cidade do Recife em 2016'.format(totalAcidentes2016))\n",
    "\n",
    "print(' ')\n",
    "\n",
    "crescimento = totalAcidentes2016 - totalAcidentes2015\n",
    "porcentagem_crescimento = round((crescimento*100)/totalAcidentes2015,2)\n",
    "print('Decaimento de cerca de {}% no número de acidentes de trânsito em Recife'.format(abs(porcentagem_crescimento)))"
   ]
  },
  {
   "cell_type": "code",
   "execution_count": 124,
   "metadata": {},
   "outputs": [
    {
     "name": "stdout",
     "output_type": "stream",
     "text": [
      "---BAIRROS ONDE MAIS OCORRERAM ACIDENTES---\n",
      "Jan a Out/2016: Boa Viagem - 1297 (ou 14.21% dos) acidentes\n",
      "Jun a Dez/2015: Boa Viagem - 943 (ou 13.15% dos) acidentes\n",
      " \n"
     ]
    },
    {
     "data": {
      "image/png": "[encoded data removed]",
      "text/plain": [
       "<matplotlib.figure.Figure at 0x7f2bb53bd3c8>"
      ]
     },
     "metadata": {},
     "output_type": "display_data"
    }
   ],
   "source": [
    "# Plots\n",
    "top10_bairros2016 = acidentes2016.groupby('bairro').size().sort_values(ascending=False)[:10]\n",
    "top10_bairros2016.to_frame()\n",
    "top10_bairros2015 = acidentes2015.groupby('bairro').size().sort_values(ascending=False)[:10]\n",
    "top10_bairros2015.to_frame()\n",
    "top10_bairros = pd.concat([top10_bairros2016, top10_bairros2015], axis=1)\n",
    "top10_bairros.columns = ['Jan/2016 a Out/2016','Jun/2015 a Dez/2015']\n",
    "top10_bairros.plot.barh(title='OS 10 BAIRROS DO RECIFE ONDE OCORRERAM MAIS ACIDENTES DE TRÂNSITO',\n",
    "                        grid=True, figsize=(15,7))\n",
    "\n",
    "# MODAS\n",
    "\n",
    "# Bairro onde mais ocorreu acidentes em 2016\n",
    "bairro_moda2016 = acidentes2016.bairro.mode()[0]\n",
    "qtd_bairro2016 = acidentes2016.groupby('bairro').size().sort_values(ascending=False)[0]\n",
    "\n",
    "# Bairro onde mais ocorreu acidentes em 2015\n",
    "bairro_moda2015 = acidentes2015.bairro.mode()[0]\n",
    "qtd_bairro2015 = acidentes2015.groupby('bairro').size().sort_values(ascending=False)[0]\n",
    "\n",
    "# Calculando porcentagens\n",
    "pct_bairro2016 = round(qtd_bairro2016*100.0/acidentes2016.shape[0], 2)\n",
    "pct_bairro2015 = round(qtd_bairro2015*100.0/acidentes2015.shape[0], 2)\n",
    "\n",
    "print('---BAIRROS ONDE MAIS OCORRERAM ACIDENTES---')\n",
    "print('Jan a Out/2016: {} - {} (ou {}% dos) acidentes'.format(bairro_moda2016, qtd_bairro2016, pct_bairro2016))\n",
    "print('Jun a Dez/2015: {} - {} (ou {}% dos) acidentes'.format(bairro_moda2015, qtd_bairro2015, pct_bairro2015))\n",
    "print(' ')"
   ]
  },
  {
   "cell_type": "code",
   "execution_count": 125,
   "metadata": {},
   "outputs": [
    {
     "name": "stdout",
     "output_type": "stream",
     "text": [
      "---ENDEREÇOS ONDE MAIS OCORRERAM ACIDENTES---\n",
      "Jan a Out/2016: Av Governador Agamenon Magalhaes - 394 (ou 4.32% dos) acidentes\n",
      "Jun a Dez/2015: Av Marechal Mascarenhas De Moraes - 346 (ou 4.32% dos) acidentes\n"
     ]
    },
    {
     "data": {
      "image/png": "[encoded data removed]",
      "text/plain": [
       "<matplotlib.figure.Figure at 0x7f2bb5124ef0>"
      ]
     },
     "metadata": {},
     "output_type": "display_data"
    }
   ],
   "source": [
    "# PLOTS\n",
    "\n",
    "top10_enderecos2016 = acidentes2016.groupby('endereco').size().sort_values(ascending=False)[:5]\n",
    "top10_enderecos2016.to_frame()\n",
    "top10_enderecos2015 = acidentes2015.groupby('endereco').size().sort_values(ascending=False)[:5]\n",
    "top10_enderecos2015.to_frame()\n",
    "top10_enderecos = pd.concat([top10_enderecos2016, top10_enderecos2015], axis=1)\n",
    "top10_enderecos.columns = ['Jan/2016 a Out/2016','Jun/2015 a Dez/2015']\n",
    "top10_enderecos.plot.barh(title='OS 10 ENDEREÇOS DO RECIFE ONDE OCORRERAM MAIS ACIDENTES DE TRÂNSITO',\n",
    "                        grid=True, figsize=(10,5))\n",
    "\n",
    "# MODAS\n",
    "\n",
    "# Endereço onde mais ocorreu acidentes em 2016\n",
    "endereco_moda2016 = acidentes2016.endereco.mode()[0]\n",
    "qtd_endereco2016 = acidentes2016.groupby('endereco').size().sort_values(ascending=False)[0]\n",
    "\n",
    "# Endereço onde mais ocorreu acidentes em 2015\n",
    "endereco_moda2015 = acidentes2015.endereco.mode()[0]\n",
    "qtd_endereco2015 = acidentes2015.groupby('endereco').size().sort_values(ascending=False)[0]\n",
    "\n",
    "# Calculando porcentagens\n",
    "pct_endereco2016 = round(qtd_endereco2016*100.0/acidentes2016.shape[0], 2)\n",
    "pct_endereco2015 = round(qtd_endereco2015*100.0/acidentes2015.shape[0], 2)\n",
    "\n",
    "print('---ENDEREÇOS ONDE MAIS OCORRERAM ACIDENTES---')\n",
    "print('Jan a Out/2016: {} - {} (ou {}% dos) acidentes'.format(endereco_moda2016, qtd_endereco2016, pct_endereco2016))\n",
    "print('Jun a Dez/2015: {} - {} (ou {}% dos) acidentes'.format(endereco_moda2015, qtd_endereco2015, pct_endereco2016))"
   ]
  },
  {
   "cell_type": "code",
   "execution_count": 126,
   "metadata": {
    "collapsed": true
   },
   "outputs": [],
   "source": [
    "# Input -> hora no padrão hh:mm \n",
    "# Return -> range ou intervalo na forma [hh, hh+1) no qual a hora de entrada está\n",
    "def criaRangeHora(hora):\n",
    "    h = hora[:2]\n",
    "    if h[0] == '0':\n",
    "        if h[1] == '9':\n",
    "            return '[' + h + 'h, ' + str(int(h[:2])+1) + 'h)'\n",
    "        else:\n",
    "            return '[' + h + 'h, 0' + str(int(h[:2])+1) + 'h)'\n",
    "    elif h[0] == '2':\n",
    "        if h[1] == '3':\n",
    "            return '[' + h + 'h, 00h)'\n",
    "        else:\n",
    "            return '[' + h + 'h, ' + str(int(h[:2])+1) + 'h)'\n",
    "    else:\n",
    "        return '[' + h + 'h, ' + str(int(h[:2])+1) + 'h)'\n",
    "\n",
    "# Input -> hora no padrão hh:mm\n",
    "# Return -> período do dia relativo à hora de entrada (manhã, tarde, noite, madrugada)\n",
    "def periodoDoDia(hora):\n",
    "    h = hora[:2]\n",
    "    manha = ['06','07','08','09','10','11']\n",
    "    tarde = ['12','13','14','15','16','17']\n",
    "    noite = ['18','19','20','21','22','23']\n",
    "    \n",
    "    if h in manha:\n",
    "        return 'manhã'\n",
    "    elif h in tarde:\n",
    "        return 'tarde'\n",
    "    elif h in noite:\n",
    "        return 'noite'\n",
    "    else:\n",
    "        return 'madrugada'\n",
    "\n",
    "# Input -> data no padrão yy-mm-dd\n",
    "# Return -> string referente ao mês da data de entrada\n",
    "def retornaMes(data):\n",
    "    mes = data.split('-')[1]\n",
    "    \n",
    "    if mes == '01':\n",
    "        return 'Jan'\n",
    "    elif mes == '02':\n",
    "        return 'Fev'\n",
    "    elif mes == '03':\n",
    "        return 'Mar'\n",
    "    elif mes == '04':\n",
    "        return 'Abr'\n",
    "    elif mes == '05':\n",
    "        return 'Mai'\n",
    "    elif mes == '06':\n",
    "        return 'Jun'\n",
    "    elif mes == '07':\n",
    "        return 'Jul'\n",
    "    elif mes == '08':\n",
    "        return 'Ago'\n",
    "    elif mes == '09':\n",
    "        return 'Set'\n",
    "    elif mes == '10':\n",
    "        return 'Out'\n",
    "    elif mes == '11':\n",
    "        return 'Nov'\n",
    "    else:\n",
    "        return 'Dez'"
   ]
  },
  {
   "cell_type": "code",
   "execution_count": 127,
   "metadata": {},
   "outputs": [
    {
     "data": {
      "text/html": [
       "<div>\n",
       "<table border=\"1\" class=\"dataframe\">\n",
       "  <thead>\n",
       "    <tr style=\"text-align: right;\">\n",
       "      <th></th>\n",
       "      <th>data</th>\n",
       "      <th>hora</th>\n",
       "      <th>endereco</th>\n",
       "      <th>bairro</th>\n",
       "      <th>natureza</th>\n",
       "      <th>tipo</th>\n",
       "      <th>range_hora</th>\n",
       "      <th>periodo_dia</th>\n",
       "      <th>mes</th>\n",
       "    </tr>\n",
       "  </thead>\n",
       "  <tbody>\n",
       "    <tr>\n",
       "      <th>0</th>\n",
       "      <td>2016-01-01</td>\n",
       "      <td>00:58</td>\n",
       "      <td>Av Jornalista Possidonio Cavalcanti Bastos</td>\n",
       "      <td>Iputinga</td>\n",
       "      <td>COLISÃO</td>\n",
       "      <td>SEM VÍTIMA</td>\n",
       "      <td>[00h, 01h)</td>\n",
       "      <td>madrugada</td>\n",
       "      <td>Jan</td>\n",
       "    </tr>\n",
       "    <tr>\n",
       "      <th>1</th>\n",
       "      <td>2016-01-01</td>\n",
       "      <td>01:23</td>\n",
       "      <td>Av Engenheiro Domingos Ferreira</td>\n",
       "      <td>Boa Viagem</td>\n",
       "      <td>COLISÃO</td>\n",
       "      <td>SEM VÍTIMA</td>\n",
       "      <td>[01h, 02h)</td>\n",
       "      <td>madrugada</td>\n",
       "      <td>Jan</td>\n",
       "    </tr>\n",
       "    <tr>\n",
       "      <th>2</th>\n",
       "      <td>2016-01-01</td>\n",
       "      <td>01:42</td>\n",
       "      <td>Rua Dr Alvaro Ferraz</td>\n",
       "      <td>Jordão</td>\n",
       "      <td>COLISÃO</td>\n",
       "      <td>SEM VÍTIMA</td>\n",
       "      <td>[01h, 02h)</td>\n",
       "      <td>madrugada</td>\n",
       "      <td>Jan</td>\n",
       "    </tr>\n",
       "    <tr>\n",
       "      <th>3</th>\n",
       "      <td>2016-01-01</td>\n",
       "      <td>03:08</td>\n",
       "      <td>Av Jornalista Costa Porto</td>\n",
       "      <td>Ibura</td>\n",
       "      <td>COLISÃO</td>\n",
       "      <td>SEM VÍTIMA</td>\n",
       "      <td>[03h, 04h)</td>\n",
       "      <td>madrugada</td>\n",
       "      <td>Jan</td>\n",
       "    </tr>\n",
       "    <tr>\n",
       "      <th>4</th>\n",
       "      <td>2016-01-01</td>\n",
       "      <td>05:34</td>\n",
       "      <td>Av Governador Agamenon Magalhaes</td>\n",
       "      <td>Paissandu</td>\n",
       "      <td>CHOQUE</td>\n",
       "      <td>COM VÍTIMA</td>\n",
       "      <td>[05h, 06h)</td>\n",
       "      <td>madrugada</td>\n",
       "      <td>Jan</td>\n",
       "    </tr>\n",
       "    <tr>\n",
       "      <th>5</th>\n",
       "      <td>2016-01-01</td>\n",
       "      <td>07:26</td>\n",
       "      <td>Av Sul</td>\n",
       "      <td>Cabanga</td>\n",
       "      <td>COLISÃO</td>\n",
       "      <td>COM VÍTIMA</td>\n",
       "      <td>[07h, 08h)</td>\n",
       "      <td>manhã</td>\n",
       "      <td>Jan</td>\n",
       "    </tr>\n",
       "    <tr>\n",
       "      <th>6</th>\n",
       "      <td>2016-01-01</td>\n",
       "      <td>07:29</td>\n",
       "      <td>Av Engenheiro Domingos Ferreira</td>\n",
       "      <td>Boa Viagem</td>\n",
       "      <td>COLISÃO</td>\n",
       "      <td>SEM VÍTIMA</td>\n",
       "      <td>[07h, 08h)</td>\n",
       "      <td>manhã</td>\n",
       "      <td>Jan</td>\n",
       "    </tr>\n",
       "    <tr>\n",
       "      <th>7</th>\n",
       "      <td>2016-01-01</td>\n",
       "      <td>09:31</td>\n",
       "      <td>Rua Coronel Urbano Ribeiro De Sena</td>\n",
       "      <td>Cajueiro</td>\n",
       "      <td>COLISÃO</td>\n",
       "      <td>SEM VÍTIMA</td>\n",
       "      <td>[09h, 10h)</td>\n",
       "      <td>manhã</td>\n",
       "      <td>Jan</td>\n",
       "    </tr>\n",
       "    <tr>\n",
       "      <th>8</th>\n",
       "      <td>2016-01-01</td>\n",
       "      <td>07:41</td>\n",
       "      <td>Av Marechal Mascarenhas De Moraes</td>\n",
       "      <td>Imbiribeira</td>\n",
       "      <td>COLISÃO</td>\n",
       "      <td>SEM VÍTIMA</td>\n",
       "      <td>[07h, 08h)</td>\n",
       "      <td>manhã</td>\n",
       "      <td>Jan</td>\n",
       "    </tr>\n",
       "    <tr>\n",
       "      <th>9</th>\n",
       "      <td>2016-01-01</td>\n",
       "      <td>08:35</td>\n",
       "      <td>Av Engenheiro Domingos Ferreira</td>\n",
       "      <td>Boa Viagem</td>\n",
       "      <td>COLISÃO</td>\n",
       "      <td>COM VÍTIMA</td>\n",
       "      <td>[08h, 09h)</td>\n",
       "      <td>manhã</td>\n",
       "      <td>Jan</td>\n",
       "    </tr>\n",
       "  </tbody>\n",
       "</table>\n",
       "</div>"
      ],
      "text/plain": [
       "         data   hora                                    endereco       bairro  \\\n",
       "0  2016-01-01  00:58  Av Jornalista Possidonio Cavalcanti Bastos     Iputinga   \n",
       "1  2016-01-01  01:23             Av Engenheiro Domingos Ferreira   Boa Viagem   \n",
       "2  2016-01-01  01:42                        Rua Dr Alvaro Ferraz       Jordão   \n",
       "3  2016-01-01  03:08                   Av Jornalista Costa Porto        Ibura   \n",
       "4  2016-01-01  05:34            Av Governador Agamenon Magalhaes    Paissandu   \n",
       "5  2016-01-01  07:26                                      Av Sul      Cabanga   \n",
       "6  2016-01-01  07:29             Av Engenheiro Domingos Ferreira   Boa Viagem   \n",
       "7  2016-01-01  09:31          Rua Coronel Urbano Ribeiro De Sena     Cajueiro   \n",
       "8  2016-01-01  07:41           Av Marechal Mascarenhas De Moraes  Imbiribeira   \n",
       "9  2016-01-01  08:35             Av Engenheiro Domingos Ferreira   Boa Viagem   \n",
       "\n",
       "  natureza        tipo  range_hora periodo_dia  mes  \n",
       "0  COLISÃO  SEM VÍTIMA  [00h, 01h)   madrugada  Jan  \n",
       "1  COLISÃO  SEM VÍTIMA  [01h, 02h)   madrugada  Jan  \n",
       "2  COLISÃO  SEM VÍTIMA  [01h, 02h)   madrugada  Jan  \n",
       "3  COLISÃO  SEM VÍTIMA  [03h, 04h)   madrugada  Jan  \n",
       "4   CHOQUE  COM VÍTIMA  [05h, 06h)   madrugada  Jan  \n",
       "5  COLISÃO  COM VÍTIMA  [07h, 08h)       manhã  Jan  \n",
       "6  COLISÃO  SEM VÍTIMA  [07h, 08h)       manhã  Jan  \n",
       "7  COLISÃO  SEM VÍTIMA  [09h, 10h)       manhã  Jan  \n",
       "8  COLISÃO  SEM VÍTIMA  [07h, 08h)       manhã  Jan  \n",
       "9  COLISÃO  COM VÍTIMA  [08h, 09h)       manhã  Jan  "
      ]
     },
     "execution_count": 127,
     "metadata": {},
     "output_type": "execute_result"
    }
   ],
   "source": [
    "# Criando colunas extras\n",
    "acidentes2016['range_hora'] = acidentes2016['hora'].apply(lambda x: criaRangeHora(x))\n",
    "acidentes2016['periodo_dia'] = acidentes2016['hora'].apply(lambda x: periodoDoDia(x))\n",
    "acidentes2016['mes'] = acidentes2016['data'].apply(lambda x: retornaMes(x))\n",
    "\n",
    "acidentes2015['range_hora'] = acidentes2015['hora'].apply(lambda x: criaRangeHora(x))\n",
    "acidentes2015['periodo_dia'] = acidentes2015['hora'].apply(lambda x: periodoDoDia(x))\n",
    "acidentes2015['mes'] = acidentes2015['data'].apply(lambda x: retornaMes(x))\n",
    "\n",
    "acidentes2016.head(10)"
   ]
  },
  {
   "cell_type": "code",
   "execution_count": 128,
   "metadata": {},
   "outputs": [
    {
     "data": {
      "text/plain": [
       "<matplotlib.axes._subplots.AxesSubplot at 0x7f2bb52b0d30>"
      ]
     },
     "execution_count": 128,
     "metadata": {},
     "output_type": "execute_result"
    },
    {
     "data": {
      "image/png": "[encoded data removed]",
      "text/plain": [
       "<matplotlib.figure.Figure at 0x7f2bb5141128>"
      ]
     },
     "metadata": {},
     "output_type": "display_data"
    }
   ],
   "source": [
    "# Ordem dos valores no eixo x dos gráficos\n",
    "meses = ['Jan','Fev','Mar','Abr','Mai','Jun','Jul','Ago','Set','Out']\n",
    "periodos = ['madrugada','manhã','tarde','noite']\n",
    "horas = ['[00h, 01h)','[01h, 02h)','[02h, 03h)','[03h, 04h)','[04h, 05h)','[05h, 06h)','[06h, 07h)','[07h, 08h)',\n",
    "        '[08h, 09h)','[09h, 10h)','[10h, 11h)','[11h, 12h)','[12h, 13h)','[13h, 14h)','[14h, 15h)','[15h, 16h)',\n",
    "        '[16h, 17h)','[17h, 18h)','[18h, 19h)','[19h, 20h)','[20h, 21h)','[21h, 22h)','[22h, 23h)','[23h, 00h)']\n",
    "\n",
    "# PLOTS\n",
    "fig, ax = plt.subplots(ncols=3,figsize=(20,7))\n",
    "\n",
    "acidentesXmes2016 = acidentes2016.groupby('mes').size()\n",
    "acidentesXmes2016 = acidentesXmes2016.reindex(meses)\n",
    "acidentesXmes2016.plot.bar(title='QUANTIDADE DE ACIDENTES x MÊS (2016)', grid=True, ax=ax[0])\n",
    "\n",
    "acidentesXhoras2016 = acidentes2016.groupby('range_hora').size()\n",
    "acidentesXhoras2016 = acidentesXhoras2016.reindex(horas)\n",
    "acidentesXhoras2016.plot.bar(title='QUANTIDADE DE ACIDENTES x HORAS DO DIA (2016)', grid=True, ax=ax[1])\n",
    "\n",
    "acidentesXperiodo2016 = acidentes2016.groupby('periodo_dia').size()\n",
    "acidentesXperiodo2016 = acidentesXperiodo2016.reindex(periodos)\n",
    "acidentesXperiodo2016.plot.bar(title='QUANTIDADE DE ACIDENTES x PERÍODO DO DIA (2016)', grid=True, ax=ax[2])"
   ]
  },
  {
   "cell_type": "markdown",
   "metadata": {},
   "source": [
    "### 2.2 &mdash; Análise exploratória dos dados sobre registros de infrações de trânsito"
   ]
  },
  {
   "cell_type": "code",
   "execution_count": 129,
   "metadata": {},
   "outputs": [
    {
     "name": "stdout",
     "output_type": "stream",
     "text": [
      "DATASET REFERENTE AOS REGISTROS DE INFRAÇÕES DE TRÂNSITO EM RECIFE/2016\n"
     ]
    },
    {
     "data": {
      "text/html": [
       "<div>\n",
       "<table border=\"1\" class=\"dataframe\">\n",
       "  <thead>\n",
       "    <tr style=\"text-align: right;\">\n",
       "      <th></th>\n",
       "      <th>data_infracao</th>\n",
       "      <th>hora_infracao</th>\n",
       "      <th>data_implantacao</th>\n",
       "      <th>agente_equipamento</th>\n",
       "    </tr>\n",
       "  </thead>\n",
       "  <tbody>\n",
       "    <tr>\n",
       "      <th>0</th>\n",
       "      <td>2015-12-30</td>\n",
       "      <td>11:10</td>\n",
       "      <td>2016-01-04</td>\n",
       "      <td>Código 6 - AUTOS NO TALÃO MANUAL</td>\n",
       "    </tr>\n",
       "    <tr>\n",
       "      <th>1</th>\n",
       "      <td>2015-12-20</td>\n",
       "      <td>08:20</td>\n",
       "      <td>2016-01-04</td>\n",
       "      <td>Código 6 - AUTOS NO TALÃO MANUAL</td>\n",
       "    </tr>\n",
       "    <tr>\n",
       "      <th>2</th>\n",
       "      <td>2015-12-24</td>\n",
       "      <td>20:15</td>\n",
       "      <td>2016-01-04</td>\n",
       "      <td>Código 6 - AUTOS NO TALÃO MANUAL</td>\n",
       "    </tr>\n",
       "    <tr>\n",
       "      <th>3</th>\n",
       "      <td>2015-12-28</td>\n",
       "      <td>13:50</td>\n",
       "      <td>2016-01-04</td>\n",
       "      <td>Código 6 - AUTOS NO TALÃO MANUAL</td>\n",
       "    </tr>\n",
       "    <tr>\n",
       "      <th>4</th>\n",
       "      <td>2015-12-28</td>\n",
       "      <td>13:55</td>\n",
       "      <td>2016-01-04</td>\n",
       "      <td>Código 6 - AUTOS NO TALÃO MANUAL</td>\n",
       "    </tr>\n",
       "  </tbody>\n",
       "</table>\n",
       "</div>"
      ],
      "text/plain": [
       "  data_infracao hora_infracao data_implantacao  \\\n",
       "0    2015-12-30         11:10       2016-01-04   \n",
       "1    2015-12-20         08:20       2016-01-04   \n",
       "2    2015-12-24         20:15       2016-01-04   \n",
       "3    2015-12-28         13:50       2016-01-04   \n",
       "4    2015-12-28         13:55       2016-01-04   \n",
       "\n",
       "                 agente_equipamento  \n",
       "0  Código 6 - AUTOS NO TALÃO MANUAL  \n",
       "1  Código 6 - AUTOS NO TALÃO MANUAL  \n",
       "2  Código 6 - AUTOS NO TALÃO MANUAL  \n",
       "3  Código 6 - AUTOS NO TALÃO MANUAL  \n",
       "4  Código 6 - AUTOS NO TALÃO MANUAL  "
      ]
     },
     "metadata": {},
     "output_type": "display_data"
    },
    {
     "name": "stdout",
     "output_type": "stream",
     "text": [
      " \n",
      "DATASET REFERENTE AOS REGISTROS DE INFRAÇÕES DE TRÂNSITO EM RECIFE/2015\n"
     ]
    },
    {
     "data": {
      "text/html": [
       "<div>\n",
       "<table border=\"1\" class=\"dataframe\">\n",
       "  <thead>\n",
       "    <tr style=\"text-align: right;\">\n",
       "      <th></th>\n",
       "      <th>data_infracao</th>\n",
       "      <th>hora_infracao</th>\n",
       "      <th>data_implantacao</th>\n",
       "      <th>agente_equipamento</th>\n",
       "    </tr>\n",
       "  </thead>\n",
       "  <tbody>\n",
       "    <tr>\n",
       "      <th>0</th>\n",
       "      <td>2015-10-26</td>\n",
       "      <td>08:42</td>\n",
       "      <td>2015-11-03</td>\n",
       "      <td>Código 6 - AUTOS NO TALÃO MANUAL</td>\n",
       "    </tr>\n",
       "    <tr>\n",
       "      <th>1</th>\n",
       "      <td>2015-10-26</td>\n",
       "      <td>08:45</td>\n",
       "      <td>2015-11-03</td>\n",
       "      <td>Código 6 - AUTOS NO TALÃO MANUAL</td>\n",
       "    </tr>\n",
       "    <tr>\n",
       "      <th>2</th>\n",
       "      <td>2015-10-26</td>\n",
       "      <td>08:48</td>\n",
       "      <td>2015-11-03</td>\n",
       "      <td>Código 6 - AUTOS NO TALÃO MANUAL</td>\n",
       "    </tr>\n",
       "    <tr>\n",
       "      <th>3</th>\n",
       "      <td>2015-10-26</td>\n",
       "      <td>08:55</td>\n",
       "      <td>2015-11-03</td>\n",
       "      <td>Código 6 - AUTOS NO TALÃO MANUAL</td>\n",
       "    </tr>\n",
       "    <tr>\n",
       "      <th>4</th>\n",
       "      <td>2015-10-26</td>\n",
       "      <td>09:10</td>\n",
       "      <td>2015-11-03</td>\n",
       "      <td>Código 6 - AUTOS NO TALÃO MANUAL</td>\n",
       "    </tr>\n",
       "  </tbody>\n",
       "</table>\n",
       "</div>"
      ],
      "text/plain": [
       "  data_infracao hora_infracao data_implantacao  \\\n",
       "0    2015-10-26         08:42       2015-11-03   \n",
       "1    2015-10-26         08:45       2015-11-03   \n",
       "2    2015-10-26         08:48       2015-11-03   \n",
       "3    2015-10-26         08:55       2015-11-03   \n",
       "4    2015-10-26         09:10       2015-11-03   \n",
       "\n",
       "                 agente_equipamento  \n",
       "0  Código 6 - AUTOS NO TALÃO MANUAL  \n",
       "1  Código 6 - AUTOS NO TALÃO MANUAL  \n",
       "2  Código 6 - AUTOS NO TALÃO MANUAL  \n",
       "3  Código 6 - AUTOS NO TALÃO MANUAL  \n",
       "4  Código 6 - AUTOS NO TALÃO MANUAL  "
      ]
     },
     "metadata": {},
     "output_type": "display_data"
    }
   ],
   "source": [
    "# Lendo datasets tratados\n",
    "multas2016 = pd.read_csv('treated-datasets/infracoes-transito-2016.csv', sep=',', index_col=0)\n",
    "multas2015 = pd.read_csv('treated-datasets/infracoes-transito-2015.csv', sep=',', index_col=0)\n",
    "\n",
    "print('DATASET REFERENTE AOS REGISTROS DE INFRAÇÕES DE TRÂNSITO EM RECIFE/2016')\n",
    "display(multas2016.head())\n",
    "print(' ')\n",
    "print('DATASET REFERENTE AOS REGISTROS DE INFRAÇÕES DE TRÂNSITO EM RECIFE/2015')\n",
    "display(multas2015.head())"
   ]
  },
  {
   "cell_type": "code",
   "execution_count": 130,
   "metadata": {},
   "outputs": [
    {
     "name": "stdout",
     "output_type": "stream",
     "text": [
      "629158 infrações de trânsito foram registradas na cidade do Recife em 2015\n",
      "570798 infrações de trânsito foram registradas na cidade do Recife em 2016\n",
      "Decaimento de 9.28% no número de infrações de trânsito registradas em Recife, entre 2015 e 2016.\n"
     ]
    }
   ],
   "source": [
    "print('{} infrações de trânsito foram registradas na cidade do Recife em 2015'.format(multas2015.shape[0]))\n",
    "print('{} infrações de trânsito foram registradas na cidade do Recife em 2016'.format(multas2016.shape[0]))\n",
    "\n",
    "crescimento = multas2016.shape[0] - multas2015.shape[0]\n",
    "porcentagem_crescimento = round((crescimento*100)/multas2015.shape[0],2)\n",
    "print('Decaimento de {}% no número de infrações de trânsito registradas em Recife, entre 2015 e 2016.'.format(abs(porcentagem_crescimento)))"
   ]
  },
  {
   "cell_type": "code",
   "execution_count": 131,
   "metadata": {},
   "outputs": [
    {
     "name": "stdout",
     "output_type": "stream",
     "text": [
      "---MEIOS QUE MAIS IMPLANTARAM MULTAS---\n",
      "2016: Código 3 - LOMBADA ELETRÔNICA - 245458 (ou 43.0% das) infrações registradas\n",
      "2015: Código 3 - LOMBADA ELETRÔNICA - 316780 (ou 50.35% das) infrações registradas\n"
     ]
    }
   ],
   "source": [
    "# Meio que mais implantou multas de trânsito em 2016\n",
    "equip_moda2016 = multas2016.agente_equipamento.mode()[0]\n",
    "qtd_equip2016 = multas2016.groupby('agente_equipamento').size().sort_values(ascending=False)[0]\n",
    "\n",
    "# Meio que mais implantou multas de trânsito em 2015\n",
    "equip_moda2015 = multas2015.agente_equipamento.mode()[0]\n",
    "qtd_equip2015 = multas2015.groupby('agente_equipamento').size().sort_values(ascending=False)[0]\n",
    "\n",
    "# Calculando porcentagens\n",
    "pct_equip2016 = round(qtd_equip2016*100.0/multas2016.shape[0], 2)\n",
    "pct_equip2015 = round(qtd_equip2015*100.0/multas2015.shape[0], 2)\n",
    "\n",
    "print('---MEIOS QUE MAIS IMPLANTARAM MULTAS---')\n",
    "print('2016: {} - {} (ou {}% das) infrações registradas'.format(equip_moda2016, qtd_equip2016, pct_equip2016))\n",
    "print('2015: {} - {} (ou {}% das) infrações registradas'.format(equip_moda2015, qtd_equip2015, pct_equip2015))"
   ]
  },
  {
   "cell_type": "code",
   "execution_count": 132,
   "metadata": {},
   "outputs": [
    {
     "data": {
      "text/html": [
       "<div>\n",
       "<table border=\"1\" class=\"dataframe\">\n",
       "  <thead>\n",
       "    <tr style=\"text-align: right;\">\n",
       "      <th></th>\n",
       "      <th>data_infracao</th>\n",
       "      <th>hora_infracao</th>\n",
       "      <th>data_implantacao</th>\n",
       "      <th>agente_equipamento</th>\n",
       "      <th>range_hora</th>\n",
       "      <th>periodo_dia</th>\n",
       "      <th>mes</th>\n",
       "    </tr>\n",
       "  </thead>\n",
       "  <tbody>\n",
       "    <tr>\n",
       "      <th>0</th>\n",
       "      <td>2015-12-30</td>\n",
       "      <td>11:10</td>\n",
       "      <td>2016-01-04</td>\n",
       "      <td>Código 6 - AUTOS NO TALÃO MANUAL</td>\n",
       "      <td>[11h, 12h)</td>\n",
       "      <td>manhã</td>\n",
       "      <td>Jan</td>\n",
       "    </tr>\n",
       "    <tr>\n",
       "      <th>1</th>\n",
       "      <td>2015-12-20</td>\n",
       "      <td>08:20</td>\n",
       "      <td>2016-01-04</td>\n",
       "      <td>Código 6 - AUTOS NO TALÃO MANUAL</td>\n",
       "      <td>[08h, 09h)</td>\n",
       "      <td>manhã</td>\n",
       "      <td>Jan</td>\n",
       "    </tr>\n",
       "    <tr>\n",
       "      <th>2</th>\n",
       "      <td>2015-12-24</td>\n",
       "      <td>20:15</td>\n",
       "      <td>2016-01-04</td>\n",
       "      <td>Código 6 - AUTOS NO TALÃO MANUAL</td>\n",
       "      <td>[20h, 21h)</td>\n",
       "      <td>noite</td>\n",
       "      <td>Jan</td>\n",
       "    </tr>\n",
       "    <tr>\n",
       "      <th>3</th>\n",
       "      <td>2015-12-28</td>\n",
       "      <td>13:50</td>\n",
       "      <td>2016-01-04</td>\n",
       "      <td>Código 6 - AUTOS NO TALÃO MANUAL</td>\n",
       "      <td>[13h, 14h)</td>\n",
       "      <td>tarde</td>\n",
       "      <td>Jan</td>\n",
       "    </tr>\n",
       "    <tr>\n",
       "      <th>4</th>\n",
       "      <td>2015-12-28</td>\n",
       "      <td>13:55</td>\n",
       "      <td>2016-01-04</td>\n",
       "      <td>Código 6 - AUTOS NO TALÃO MANUAL</td>\n",
       "      <td>[13h, 14h)</td>\n",
       "      <td>tarde</td>\n",
       "      <td>Jan</td>\n",
       "    </tr>\n",
       "  </tbody>\n",
       "</table>\n",
       "</div>"
      ],
      "text/plain": [
       "  data_infracao hora_infracao data_implantacao  \\\n",
       "0    2015-12-30         11:10       2016-01-04   \n",
       "1    2015-12-20         08:20       2016-01-04   \n",
       "2    2015-12-24         20:15       2016-01-04   \n",
       "3    2015-12-28         13:50       2016-01-04   \n",
       "4    2015-12-28         13:55       2016-01-04   \n",
       "\n",
       "                 agente_equipamento  range_hora periodo_dia  mes  \n",
       "0  Código 6 - AUTOS NO TALÃO MANUAL  [11h, 12h)       manhã  Jan  \n",
       "1  Código 6 - AUTOS NO TALÃO MANUAL  [08h, 09h)       manhã  Jan  \n",
       "2  Código 6 - AUTOS NO TALÃO MANUAL  [20h, 21h)       noite  Jan  \n",
       "3  Código 6 - AUTOS NO TALÃO MANUAL  [13h, 14h)       tarde  Jan  \n",
       "4  Código 6 - AUTOS NO TALÃO MANUAL  [13h, 14h)       tarde  Jan  "
      ]
     },
     "execution_count": 132,
     "metadata": {},
     "output_type": "execute_result"
    }
   ],
   "source": [
    "# Criando colunas extras utilizando funções definidas previamente\n",
    "multas2016['range_hora'] = multas2016['hora_infracao'].apply(lambda x: criaRangeHora(x))\n",
    "multas2016['periodo_dia'] = multas2016['hora_infracao'].apply(lambda x: periodoDoDia(x))\n",
    "multas2016['mes'] = multas2016['data_implantacao'].apply(lambda x: retornaMes(x))\n",
    "\n",
    "multas2015['range_hora'] = multas2015['hora_infracao'].apply(lambda x: criaRangeHora(x))\n",
    "multas2015['periodo_dia'] = multas2015['hora_infracao'].apply(lambda x: periodoDoDia(x))\n",
    "multas2015['mes'] = multas2015['data_implantacao'].apply(lambda x: retornaMes(x))\n",
    "\n",
    "multas2016.head()"
   ]
  },
  {
   "cell_type": "code",
   "execution_count": 133,
   "metadata": {},
   "outputs": [
    {
     "data": {
      "text/plain": [
       "<matplotlib.axes._subplots.AxesSubplot at 0x7f2baa6a45f8>"
      ]
     },
     "execution_count": 133,
     "metadata": {},
     "output_type": "execute_result"
    },
    {
     "data": {
      "image/png": "[encoded data removed]",
      "text/plain": [
       "<matplotlib.figure.Figure at 0x7f2bb438ff98>"
      ]
     },
     "metadata": {},
     "output_type": "display_data"
    }
   ],
   "source": [
    "# Ordem dos valores no eixo x dos gráficos\n",
    "meses = ['Jan','Fev','Mar','Abr','Mai','Jun','Jul','Ago','Set','Out','Nov','Dez']\n",
    "periodos = ['madrugada','manhã','tarde','noite']\n",
    "horas = ['[00h, 01h)','[01h, 02h)','[02h, 03h)','[03h, 04h)','[04h, 05h)','[05h, 06h)','[06h, 07h)','[07h, 08h)',\n",
    "        '[08h, 09h)','[09h, 10h)','[10h, 11h)','[11h, 12h)','[12h, 13h)','[13h, 14h)','[14h, 15h)','[15h, 16h)',\n",
    "        '[16h, 17h)','[17h, 18h)','[18h, 19h)','[19h, 20h)','[20h, 21h)','[21h, 22h)','[22h, 23h)','[23h, 00h)']\n",
    "\n",
    "# PLOTS\n",
    "fig, ax = plt.subplots(ncols=3,figsize=(20,7))\n",
    "\n",
    "multasXmes2016 = multas2016.groupby('mes').size()\n",
    "multasXmes2016 = multasXmes2016.reindex(meses)\n",
    "multasXmes2016.plot.bar(title='QUANTIDADE DE REGISTRO DE MULTAS x MÊS (2016)', grid=True, ax=ax[0])\n",
    "\n",
    "multasXhoras2016 = multas2016.groupby('range_hora').size()\n",
    "multasXhoras2016 = multasXhoras2016.reindex(horas)\n",
    "multasXhoras2016.plot.bar(title='QUANTIDADE DE INFRAÇÕES COMETIDAS x HORAS DO DIA (2016)', grid=True, ax=ax[2])\n",
    "\n",
    "multasXperiodo2016 = multas2016.groupby('periodo_dia').size()\n",
    "multasXperiodo2016 = multasXperiodo2016.reindex(periodos)\n",
    "multasXperiodo2015 = multas2015.groupby('periodo_dia').size()\n",
    "multasXperiodo2015 = multasXperiodo2015.reindex(periodos)\n",
    "multasXperiodo2016 = multasXperiodo2016.to_frame()\n",
    "multasXperiodo2015 = multasXperiodo2015.to_frame()\n",
    "multasXperiodo2016.columns = ['2016']\n",
    "multasXperiodo2015.columns = ['2015']\n",
    "multasXperiodo = pd.concat([multasXperiodo2016, multasXperiodo2015], axis=1)\n",
    "multasXperiodo.plot.bar(title='QUANTIDADE DE INFRAÇÕES COMETIDAS x PERÍODO DO DIA', grid=True, ax=ax[1])"
   ]
  },
  {
   "cell_type": "code",
   "execution_count": 220,
   "metadata": {},
   "outputs": [
    {
     "data": {
      "text/plain": [
       "<matplotlib.axes._subplots.AxesSubplot at 0x7f2ba7f5ed68>"
      ]
     },
     "execution_count": 220,
     "metadata": {},
     "output_type": "execute_result"
    },
    {
     "data": {
      "image/png": "[encoded data removed]",
      "text/plain": [
       "<matplotlib.figure.Figure at 0x7f2ba7f4dc88>"
      ]
     },
     "metadata": {},
     "output_type": "display_data"
    }
   ],
   "source": [
    "qtdAcidentes2016 = acidentes2016.shape[0]\n",
    "qtdMultas2016 = multas2016[(multas2016.mes != 'Nov') & (multas2016.mes != 'Dez')].shape[0]\n",
    "\n",
    "meses = ['Jan','Fev','Mar','Abr','Mai','Jun','Jul','Ago','Set','Out']\n",
    "\n",
    "multasPorMes2016 = multas2016.groupby('mes').size()\n",
    "multasPorMes2016 = multasPorMes2016.reindex(meses)\n",
    "acidentesPorMes2016 = acidentes2016.groupby('mes').size()\n",
    "acidentesPorMes2016 = acidentesPorMes2016.reindex(meses)\n",
    "multasPorMes2016 = multasPorMes2016.to_frame()\n",
    "acidentesPorMes2016 = acidentesPorMes2016.to_frame()\n",
    "multasPorMes2016.columns = ['qtd_infracoes']\n",
    "acidentesPorMes2016.columns = ['qtd_acidentes']\n",
    "\n",
    "multasPorMes2016['taxa_infracoes'] = multasPorMes2016['qtd_infracoes'].apply(lambda x: round(x/qtdMultas2016,3))\n",
    "acidentesPorMes2016['taxa_acidentes'] = acidentesPorMes2016['qtd_acidentes'].apply(lambda x: round(x/qtdAcidentes2016,3))\n",
    "\n",
    "multasPorMes2016.drop(['qtd_infracoes'], axis=1, inplace=True)\n",
    "acidentesPorMes2016.drop(['qtd_acidentes'], axis=1, inplace=True)\n",
    "\n",
    "taxa_maXmes2016 = pd.concat([multasPorMes2016, acidentesPorMes2016], axis=1)\n",
    "\n",
    "taxa_maXmes2016.plot.bar(title='PROPORÇÃO DE INFRAÇÕES E ACIDENTES x MÊS (Jan a Out/2016)', grid=True, figsize=(10,5))"
   ]
  },
  {
   "cell_type": "markdown",
   "metadata": {},
   "source": [
    "### 2.3 &mdash; Técnica de aprendizagem"
   ]
  },
  {
   "cell_type": "code",
   "execution_count": 238,
   "metadata": {},
   "outputs": [
    {
     "name": "stdout",
     "output_type": "stream",
     "text": [
      "--------MATRIZ DE CORRELAÇÃO--------\n"
     ]
    },
    {
     "data": {
      "text/html": [
       "<div>\n",
       "<table border=\"1\" class=\"dataframe\">\n",
       "  <thead>\n",
       "    <tr style=\"text-align: right;\">\n",
       "      <th></th>\n",
       "      <th>taxa_infracoes</th>\n",
       "      <th>taxa_acidentes</th>\n",
       "    </tr>\n",
       "  </thead>\n",
       "  <tbody>\n",
       "    <tr>\n",
       "      <th>taxa_infracoes</th>\n",
       "      <td>1.000000</td>\n",
       "      <td>0.521628</td>\n",
       "    </tr>\n",
       "    <tr>\n",
       "      <th>taxa_acidentes</th>\n",
       "      <td>0.521628</td>\n",
       "      <td>1.000000</td>\n",
       "    </tr>\n",
       "  </tbody>\n",
       "</table>\n",
       "</div>"
      ],
      "text/plain": [
       "                taxa_infracoes  taxa_acidentes\n",
       "taxa_infracoes        1.000000        0.521628\n",
       "taxa_acidentes        0.521628        1.000000"
      ]
     },
     "metadata": {},
     "output_type": "display_data"
    },
    {
     "name": "stdout",
     "output_type": "stream",
     "text": [
      " \n",
      "-------------------------------REGRESSÃO LINEAR-------------------------------\n"
     ]
    },
    {
     "data": {
      "image/png": "[encoded data removed]",
      "text/plain": [
       "<matplotlib.figure.Figure at 0x7f2b9b2e1898>"
      ]
     },
     "metadata": {},
     "output_type": "display_data"
    }
   ],
   "source": [
    "from scipy.stats import linregress\n",
    "\n",
    "X = taxa_maXmes2016['taxa_infracoes'].values.copy()\n",
    "y = taxa_maXmes2016['taxa_acidentes'].values\n",
    "\n",
    "model = linregress(X,y)\n",
    "b0 = model.intercept\n",
    "b1 = model.slope \n",
    "\n",
    "figs, ax = plt.subplots(1,1,figsize=(10,5))\n",
    "taxa_maXmes2016[['taxa_infracoes','taxa_acidentes']].plot.scatter(x='taxa_infracoes', y='taxa_acidentes', ax=ax)\n",
    "ax.plot(taxa_maXmes2016['taxa_infracoes'], taxa_maXmes2016['taxa_infracoes'].map(lambda x: b1*x+b0), color='red')\n",
    "\n",
    "# 0.5 a 0.7 positivo ou negativo indica uma correlação moderada. (Wikipedia)\n",
    "print('--------MATRIZ DE CORRELAÇÃO--------')\n",
    "display(taxa_maXmes2016.corr())\n",
    "#print('r2: {}'.format(round(model.rvalue**2, 3)))\n",
    "#print('p-value: {}'.format(round(model.pvalue,3)))\n",
    "\n",
    "print(' ')\n",
    "print('-------------------------------REGRESSÃO LINEAR-------------------------------')"
   ]
  },
  {
   "cell_type": "code",
   "execution_count": 193,
   "metadata": {},
   "outputs": [
    {
     "name": "stdout",
     "output_type": "stream",
     "text": [
      "-8.0531717371898\n"
     ]
    }
   ],
   "source": [
    "import geopandas as gpd\n",
    "from geopy.geocoders import Nominatim\n",
    "\n",
    "% matplotlib inline\n",
    "\n",
    "bairrosRecife = gpd.read_file('treated-datasets/bairros-recife.geojson')\n",
    "\n",
    "#bairrosRecife['bairro_cidade'] = bairrosRecife['bairro_nome'].apply(lambda x: x + ', Recife')\n",
    "\n",
    "#bairrosRecife.drop(['bairro_codigo','bairro_nome','bairro_nome_ca','microrregiao','rpa'], axis=1, inplace=True)\n",
    "\n",
    "def getCoordinates(bairro):\n",
    "    geolocator = Nominatim()\n",
    "    local = geolocator.geocode(bairro)\n",
    "    coordenadas = (local.latitude, local.longitude)\n",
    "    return coordenadas\n",
    "\n",
    "#bairrosRecife['coordenadas'] = bairrosRecife['bairro_cidade'].apply(lambda x: getCoordinates(x))\n",
    "\n",
    "# centroid = POINT (-34.95027281989323 -8.052599927939683)\n",
    "# representative point = POINT (-34.95093985502128 -8.0531717371898)\n",
    "rp = bairrosRecife.geometry.representative_point()[0]\n",
    "print(rp.y)"
   ]
  },
  {
   "cell_type": "code",
   "execution_count": null,
   "metadata": {
    "collapsed": true
   },
   "outputs": [],
   "source": []
  }
 ],
 "metadata": {
  "kernelspec": {
   "display_name": "Python 3",
   "language": "python",
   "name": "python3"
  },
  "language_info": {
   "codemirror_mode": {
    "name": "ipython",
    "version": 3
   },
   "file_extension": ".py",
   "mimetype": "text/x-python",
   "name": "python",
   "nbconvert_exporter": "python",
   "pygments_lexer": "ipython3",
   "version": "3.5.2"
  }
 },
 "nbformat": 4,
 "nbformat_minor": 2
}
